{
 "cells": [
  {
   "cell_type": "markdown",
   "metadata": {},
   "source": [
    "# High Frequency Trading Algorithm\n",
    "\n",
    "You have been tasked by the investment firm Renaissance High Frequency Trading (RHFT) to develop an automated trading strategy utilizing a combination of machine learning algorithms and high frequency algorithms. RHFT wants this new algorithm to be based on stock market data of the 30 stocks in the Dow Jones at the minute level and to conduct buys and sells every minute based on 1 min, 5 min, and 10 min Momentum. The CIO asked you to choose the Machine Learning Algorithm best suited for this task and wants you to execute the trades via Alpaca's API."
   ]
  },
  {
   "cell_type": "markdown",
   "metadata": {},
   "source": [
    "## Part 1: Prepare the data for training and testing"
   ]
  },
  {
   "cell_type": "markdown",
   "metadata": {},
   "source": [
    "### Initial Set-Up"
   ]
  },
  {
   "cell_type": "code",
   "execution_count": 75,
   "metadata": {},
   "outputs": [],
   "source": [
    "# Initial Imports\n",
    "import os\n",
    "from pathlib import Path\n",
    "import pandas as pd\n",
    "import numpy as np\n",
    "import datetime\n",
    "from datetime import datetime\n",
    "import time\n",
    "import pytz\n",
    "import schedule\n",
    "\n",
    "# Import dotev\n",
    "from dotenv import load_dotenv\n",
    "import alpaca_trade_api as tradeapi\n",
    "\n",
    "# Imports for Models\n",
    "from sklearn.model_selection import train_test_split\n",
    "from collections import Counter\n",
    "from sklearn.metrics import balanced_accuracy_score\n",
    "from imblearn.over_sampling import RandomOverSampler\n",
    "from sklearn.metrics import classification_report\n",
    "from sklearn.linear_model import LogisticRegression\n",
    "from sklearn.ensemble import RandomForestClassifier\n",
    "from sklearn.ensemble import GradientBoostingClassifier\n",
    "from sklearn.ensemble import AdaBoostClassifier\n",
    "from xgboost import XGBClassifier\n",
    "\n",
    "import joblib"
   ]
  },
  {
   "cell_type": "code",
   "execution_count": 76,
   "metadata": {},
   "outputs": [
    {
     "data": {
      "text/plain": [
       "True"
      ]
     },
     "execution_count": 76,
     "metadata": {},
     "output_type": "execute_result"
    }
   ],
   "source": [
    "# Load .env enviroment variables\n",
    "load_dotenv()"
   ]
  },
  {
   "cell_type": "code",
   "execution_count": 77,
   "metadata": {},
   "outputs": [],
   "source": [
    "# Set Alpaca API key and secret\n",
    "API_KEY = os.getenv(\"ALPACA_API_KEY\")\n",
    "API_SECRET = os.getenv(\"ALPACA_SECRET_KEY\")\n",
    "ALPACA_API_BASE_URL = \"https://paper-api.alpaca.markets\""
   ]
  },
  {
   "cell_type": "code",
   "execution_count": 78,
   "metadata": {},
   "outputs": [
    {
     "name": "stdout",
     "output_type": "stream",
     "text": [
      "Alpaca Key type: <class 'str'>\n",
      "Alpaca Secret Key type: <class 'str'>\n"
     ]
    }
   ],
   "source": [
    "print(f\"Alpaca Key type: {type(API_KEY)}\")\n",
    "print(f\"Alpaca Secret Key type: {type(API_SECRET)}\")"
   ]
  },
  {
   "cell_type": "code",
   "execution_count": 79,
   "metadata": {},
   "outputs": [],
   "source": [
    "# Create the Alpaca API object, specifying use of the paper trading account:\n",
    "api = tradeapi.REST(API_KEY, API_SECRET, ALPACA_API_BASE_URL, api_version='v2')"
   ]
  },
  {
   "cell_type": "markdown",
   "metadata": {},
   "source": [
    "### Data Generation\n",
    "\n"
   ]
  },
  {
   "cell_type": "markdown",
   "metadata": {},
   "source": [
    "#### 1. Create a ticker list, beginning and end dates, and timeframe interval.\n"
   ]
  },
  {
   "cell_type": "code",
   "execution_count": 80,
   "metadata": {},
   "outputs": [],
   "source": [
    "# Define a list of tickers\n",
    "ticker_list = [\"FB\", \"AMZN\", \"AAPL\", \"NFLX\", \"GOOGL\", \"MSFT\", \"TSLA\"]\n",
    "\n",
    "# declare begin and end date strings\n",
    "beg_date = '2022-05-27'\n",
    "end_date = '2022-05-27'\n",
    "# we convert begin and end date to formats that the ALPACA API requires\n",
    "start =  pd.Timestamp(f'{beg_date} 09:30:00-0400', tz='America/New_York').replace(hour=9, minute=30, second=0).astimezone('GMT').isoformat()[:-6]+'Z'\n",
    "end   =  pd.Timestamp(f'{end_date} 16:00:00-0400', tz='America/New_York').replace(hour=16, minute=0, second=0).astimezone('GMT').isoformat()[:-6]+'Z'\n",
    "\n",
    "# We set the time frequency at which we want to pull prices\n",
    "timeframe = '1Min'"
   ]
  },
  {
   "cell_type": "markdown",
   "metadata": {},
   "source": [
    "#### 2. Ping the Alpaca API for the data and store it in a DataFrame called `prices` by using the `get_barset` function combined with the `df` method from the Alpaca Trade SDK."
   ]
  },
  {
   "cell_type": "code",
   "execution_count": 81,
   "metadata": {},
   "outputs": [],
   "source": [
    "# Pull all prices from ticker_list using the ALPACA API\n",
    "prices = api.get_bars(ticker_list, timeframe=timeframe, start=start, end=end).df"
   ]
  },
  {
   "cell_type": "code",
   "execution_count": 82,
   "metadata": {},
   "outputs": [
    {
     "data": {
      "text/html": [
       "<div>\n",
       "<style scoped>\n",
       "    .dataframe tbody tr th:only-of-type {\n",
       "        vertical-align: middle;\n",
       "    }\n",
       "\n",
       "    .dataframe tbody tr th {\n",
       "        vertical-align: top;\n",
       "    }\n",
       "\n",
       "    .dataframe thead th {\n",
       "        text-align: right;\n",
       "    }\n",
       "</style>\n",
       "<table border=\"1\" class=\"dataframe\">\n",
       "  <thead>\n",
       "    <tr style=\"text-align: right;\">\n",
       "      <th></th>\n",
       "      <th>open</th>\n",
       "      <th>high</th>\n",
       "      <th>low</th>\n",
       "      <th>close</th>\n",
       "      <th>volume</th>\n",
       "      <th>trade_count</th>\n",
       "      <th>vwap</th>\n",
       "      <th>symbol</th>\n",
       "    </tr>\n",
       "    <tr>\n",
       "      <th>timestamp</th>\n",
       "      <th></th>\n",
       "      <th></th>\n",
       "      <th></th>\n",
       "      <th></th>\n",
       "      <th></th>\n",
       "      <th></th>\n",
       "      <th></th>\n",
       "      <th></th>\n",
       "    </tr>\n",
       "  </thead>\n",
       "  <tbody>\n",
       "    <tr>\n",
       "      <th>2022-05-27 13:30:00+00:00</th>\n",
       "      <td>145.39</td>\n",
       "      <td>145.740</td>\n",
       "      <td>145.260</td>\n",
       "      <td>145.540</td>\n",
       "      <td>1718145</td>\n",
       "      <td>16997</td>\n",
       "      <td>145.401780</td>\n",
       "      <td>AAPL</td>\n",
       "    </tr>\n",
       "    <tr>\n",
       "      <th>2022-05-27 13:31:00+00:00</th>\n",
       "      <td>145.56</td>\n",
       "      <td>146.130</td>\n",
       "      <td>145.560</td>\n",
       "      <td>146.000</td>\n",
       "      <td>656681</td>\n",
       "      <td>5929</td>\n",
       "      <td>145.872124</td>\n",
       "      <td>AAPL</td>\n",
       "    </tr>\n",
       "    <tr>\n",
       "      <th>2022-05-27 13:32:00+00:00</th>\n",
       "      <td>146.00</td>\n",
       "      <td>146.230</td>\n",
       "      <td>145.930</td>\n",
       "      <td>146.180</td>\n",
       "      <td>411564</td>\n",
       "      <td>3584</td>\n",
       "      <td>146.068032</td>\n",
       "      <td>AAPL</td>\n",
       "    </tr>\n",
       "    <tr>\n",
       "      <th>2022-05-27 13:33:00+00:00</th>\n",
       "      <td>146.18</td>\n",
       "      <td>146.205</td>\n",
       "      <td>146.020</td>\n",
       "      <td>146.045</td>\n",
       "      <td>374322</td>\n",
       "      <td>3481</td>\n",
       "      <td>146.121218</td>\n",
       "      <td>AAPL</td>\n",
       "    </tr>\n",
       "    <tr>\n",
       "      <th>2022-05-27 13:34:00+00:00</th>\n",
       "      <td>146.04</td>\n",
       "      <td>146.110</td>\n",
       "      <td>145.751</td>\n",
       "      <td>145.790</td>\n",
       "      <td>505251</td>\n",
       "      <td>3876</td>\n",
       "      <td>145.933648</td>\n",
       "      <td>AAPL</td>\n",
       "    </tr>\n",
       "  </tbody>\n",
       "</table>\n",
       "</div>"
      ],
      "text/plain": [
       "                             open     high      low    close   volume  \\\n",
       "timestamp                                                               \n",
       "2022-05-27 13:30:00+00:00  145.39  145.740  145.260  145.540  1718145   \n",
       "2022-05-27 13:31:00+00:00  145.56  146.130  145.560  146.000   656681   \n",
       "2022-05-27 13:32:00+00:00  146.00  146.230  145.930  146.180   411564   \n",
       "2022-05-27 13:33:00+00:00  146.18  146.205  146.020  146.045   374322   \n",
       "2022-05-27 13:34:00+00:00  146.04  146.110  145.751  145.790   505251   \n",
       "\n",
       "                           trade_count        vwap symbol  \n",
       "timestamp                                                  \n",
       "2022-05-27 13:30:00+00:00        16997  145.401780   AAPL  \n",
       "2022-05-27 13:31:00+00:00         5929  145.872124   AAPL  \n",
       "2022-05-27 13:32:00+00:00         3584  146.068032   AAPL  \n",
       "2022-05-27 13:33:00+00:00         3481  146.121218   AAPL  \n",
       "2022-05-27 13:34:00+00:00         3876  145.933648   AAPL  "
      ]
     },
     "execution_count": 82,
     "metadata": {},
     "output_type": "execute_result"
    }
   ],
   "source": [
    "prices.head()"
   ]
  },
  {
   "cell_type": "markdown",
   "metadata": {},
   "source": [
    "#### 3. Store only the close prices from the `prices` DataFrame in a new DataFrame called `df_closing_prices`, then view the head and tail to confirm the following:\n",
    "* First price for each stock on the open at 9:30 Eastern Time.\n",
    "* Last price for the day on the close at 3:59 pm Eastern Time."
   ]
  },
  {
   "cell_type": "code",
   "execution_count": 83,
   "metadata": {},
   "outputs": [],
   "source": [
    "# Create an empty DataFrame for closing prices\n",
    "df_closing_prices = pd.DataFrame()\n",
    "\n",
    "# Fetch the closing prices for each one of the tickers and store in a column in df_closing_prices amed after that ticker\n",
    "for ticker in ticker_list:\n",
    "    df_closing_prices[ticker] = prices.loc[prices['symbol'] == ticker]['close']"
   ]
  },
  {
   "cell_type": "code",
   "execution_count": 84,
   "metadata": {},
   "outputs": [
    {
     "data": {
      "text/html": [
       "<div>\n",
       "<style scoped>\n",
       "    .dataframe tbody tr th:only-of-type {\n",
       "        vertical-align: middle;\n",
       "    }\n",
       "\n",
       "    .dataframe tbody tr th {\n",
       "        vertical-align: top;\n",
       "    }\n",
       "\n",
       "    .dataframe thead th {\n",
       "        text-align: right;\n",
       "    }\n",
       "</style>\n",
       "<table border=\"1\" class=\"dataframe\">\n",
       "  <thead>\n",
       "    <tr style=\"text-align: right;\">\n",
       "      <th></th>\n",
       "      <th>FB</th>\n",
       "      <th>AMZN</th>\n",
       "      <th>AAPL</th>\n",
       "      <th>NFLX</th>\n",
       "      <th>GOOGL</th>\n",
       "      <th>MSFT</th>\n",
       "      <th>TSLA</th>\n",
       "    </tr>\n",
       "    <tr>\n",
       "      <th>timestamp</th>\n",
       "      <th></th>\n",
       "      <th></th>\n",
       "      <th></th>\n",
       "      <th></th>\n",
       "      <th></th>\n",
       "      <th></th>\n",
       "      <th></th>\n",
       "    </tr>\n",
       "  </thead>\n",
       "  <tbody>\n",
       "    <tr>\n",
       "      <th>2022-05-27 13:30:00+00:00</th>\n",
       "      <td>190.3400</td>\n",
       "      <td>2271.970</td>\n",
       "      <td>145.540</td>\n",
       "      <td>193.9000</td>\n",
       "      <td>2188.010</td>\n",
       "      <td>267.7928</td>\n",
       "      <td>728.355</td>\n",
       "    </tr>\n",
       "    <tr>\n",
       "      <th>2022-05-27 13:31:00+00:00</th>\n",
       "      <td>190.6700</td>\n",
       "      <td>2281.460</td>\n",
       "      <td>146.000</td>\n",
       "      <td>193.6100</td>\n",
       "      <td>2197.575</td>\n",
       "      <td>268.1900</td>\n",
       "      <td>734.520</td>\n",
       "    </tr>\n",
       "    <tr>\n",
       "      <th>2022-05-27 13:32:00+00:00</th>\n",
       "      <td>191.7087</td>\n",
       "      <td>2280.750</td>\n",
       "      <td>146.180</td>\n",
       "      <td>194.3800</td>\n",
       "      <td>2193.680</td>\n",
       "      <td>268.6100</td>\n",
       "      <td>735.770</td>\n",
       "    </tr>\n",
       "    <tr>\n",
       "      <th>2022-05-27 13:33:00+00:00</th>\n",
       "      <td>191.2450</td>\n",
       "      <td>2271.010</td>\n",
       "      <td>146.045</td>\n",
       "      <td>193.5747</td>\n",
       "      <td>2194.430</td>\n",
       "      <td>269.1100</td>\n",
       "      <td>732.450</td>\n",
       "    </tr>\n",
       "    <tr>\n",
       "      <th>2022-05-27 13:34:00+00:00</th>\n",
       "      <td>190.6100</td>\n",
       "      <td>2264.365</td>\n",
       "      <td>145.790</td>\n",
       "      <td>192.8000</td>\n",
       "      <td>2192.120</td>\n",
       "      <td>268.9100</td>\n",
       "      <td>730.590</td>\n",
       "    </tr>\n",
       "  </tbody>\n",
       "</table>\n",
       "</div>"
      ],
      "text/plain": [
       "                                 FB      AMZN     AAPL      NFLX     GOOGL  \\\n",
       "timestamp                                                                    \n",
       "2022-05-27 13:30:00+00:00  190.3400  2271.970  145.540  193.9000  2188.010   \n",
       "2022-05-27 13:31:00+00:00  190.6700  2281.460  146.000  193.6100  2197.575   \n",
       "2022-05-27 13:32:00+00:00  191.7087  2280.750  146.180  194.3800  2193.680   \n",
       "2022-05-27 13:33:00+00:00  191.2450  2271.010  146.045  193.5747  2194.430   \n",
       "2022-05-27 13:34:00+00:00  190.6100  2264.365  145.790  192.8000  2192.120   \n",
       "\n",
       "                               MSFT     TSLA  \n",
       "timestamp                                     \n",
       "2022-05-27 13:30:00+00:00  267.7928  728.355  \n",
       "2022-05-27 13:31:00+00:00  268.1900  734.520  \n",
       "2022-05-27 13:32:00+00:00  268.6100  735.770  \n",
       "2022-05-27 13:33:00+00:00  269.1100  732.450  \n",
       "2022-05-27 13:34:00+00:00  268.9100  730.590  "
      ]
     },
     "execution_count": 84,
     "metadata": {},
     "output_type": "execute_result"
    }
   ],
   "source": [
    "# Preview first five rows\n",
    "df_closing_prices.head(5)"
   ]
  },
  {
   "cell_type": "code",
   "execution_count": 85,
   "metadata": {},
   "outputs": [
    {
     "data": {
      "text/html": [
       "<div>\n",
       "<style scoped>\n",
       "    .dataframe tbody tr th:only-of-type {\n",
       "        vertical-align: middle;\n",
       "    }\n",
       "\n",
       "    .dataframe tbody tr th {\n",
       "        vertical-align: top;\n",
       "    }\n",
       "\n",
       "    .dataframe thead th {\n",
       "        text-align: right;\n",
       "    }\n",
       "</style>\n",
       "<table border=\"1\" class=\"dataframe\">\n",
       "  <thead>\n",
       "    <tr style=\"text-align: right;\">\n",
       "      <th></th>\n",
       "      <th>FB</th>\n",
       "      <th>AMZN</th>\n",
       "      <th>AAPL</th>\n",
       "      <th>NFLX</th>\n",
       "      <th>GOOGL</th>\n",
       "      <th>MSFT</th>\n",
       "      <th>TSLA</th>\n",
       "    </tr>\n",
       "    <tr>\n",
       "      <th>timestamp</th>\n",
       "      <th></th>\n",
       "      <th></th>\n",
       "      <th></th>\n",
       "      <th></th>\n",
       "      <th></th>\n",
       "      <th></th>\n",
       "      <th></th>\n",
       "    </tr>\n",
       "  </thead>\n",
       "  <tbody>\n",
       "    <tr>\n",
       "      <th>2022-05-27 19:56:00+00:00</th>\n",
       "      <td>195.10</td>\n",
       "      <td>2299.99</td>\n",
       "      <td>149.195</td>\n",
       "      <td>195.1200</td>\n",
       "      <td>2240.86</td>\n",
       "      <td>272.98</td>\n",
       "      <td>757.7334</td>\n",
       "    </tr>\n",
       "    <tr>\n",
       "      <th>2022-05-27 19:57:00+00:00</th>\n",
       "      <td>195.12</td>\n",
       "      <td>2299.46</td>\n",
       "      <td>149.415</td>\n",
       "      <td>195.0101</td>\n",
       "      <td>2242.81</td>\n",
       "      <td>272.97</td>\n",
       "      <td>757.7700</td>\n",
       "    </tr>\n",
       "    <tr>\n",
       "      <th>2022-05-27 19:58:00+00:00</th>\n",
       "      <td>195.02</td>\n",
       "      <td>2299.88</td>\n",
       "      <td>149.510</td>\n",
       "      <td>194.9500</td>\n",
       "      <td>2242.98</td>\n",
       "      <td>273.03</td>\n",
       "      <td>758.2800</td>\n",
       "    </tr>\n",
       "    <tr>\n",
       "      <th>2022-05-27 19:59:00+00:00</th>\n",
       "      <td>195.13</td>\n",
       "      <td>2303.38</td>\n",
       "      <td>149.650</td>\n",
       "      <td>195.1900</td>\n",
       "      <td>2246.36</td>\n",
       "      <td>273.23</td>\n",
       "      <td>759.6600</td>\n",
       "    </tr>\n",
       "    <tr>\n",
       "      <th>2022-05-27 20:00:00+00:00</th>\n",
       "      <td>195.13</td>\n",
       "      <td>2301.99</td>\n",
       "      <td>149.640</td>\n",
       "      <td>195.1900</td>\n",
       "      <td>2246.33</td>\n",
       "      <td>273.22</td>\n",
       "      <td>759.5000</td>\n",
       "    </tr>\n",
       "  </tbody>\n",
       "</table>\n",
       "</div>"
      ],
      "text/plain": [
       "                               FB     AMZN     AAPL      NFLX    GOOGL  \\\n",
       "timestamp                                                                \n",
       "2022-05-27 19:56:00+00:00  195.10  2299.99  149.195  195.1200  2240.86   \n",
       "2022-05-27 19:57:00+00:00  195.12  2299.46  149.415  195.0101  2242.81   \n",
       "2022-05-27 19:58:00+00:00  195.02  2299.88  149.510  194.9500  2242.98   \n",
       "2022-05-27 19:59:00+00:00  195.13  2303.38  149.650  195.1900  2246.36   \n",
       "2022-05-27 20:00:00+00:00  195.13  2301.99  149.640  195.1900  2246.33   \n",
       "\n",
       "                             MSFT      TSLA  \n",
       "timestamp                                    \n",
       "2022-05-27 19:56:00+00:00  272.98  757.7334  \n",
       "2022-05-27 19:57:00+00:00  272.97  757.7700  \n",
       "2022-05-27 19:58:00+00:00  273.03  758.2800  \n",
       "2022-05-27 19:59:00+00:00  273.23  759.6600  \n",
       "2022-05-27 20:00:00+00:00  273.22  759.5000  "
      ]
     },
     "execution_count": 85,
     "metadata": {},
     "output_type": "execute_result"
    }
   ],
   "source": [
    "# Preview last five rows\n",
    "df_closing_prices.tail(5)"
   ]
  },
  {
   "cell_type": "code",
   "execution_count": 86,
   "metadata": {},
   "outputs": [
    {
     "data": {
      "text/plain": [
       "(391, 7)"
      ]
     },
     "execution_count": 86,
     "metadata": {},
     "output_type": "execute_result"
    }
   ],
   "source": [
    "# Number of rows\n",
    "df_closing_prices.shape"
   ]
  },
  {
   "cell_type": "code",
   "execution_count": 87,
   "metadata": {},
   "outputs": [
    {
     "data": {
      "text/plain": [
       "FB        0\n",
       "AMZN      1\n",
       "AAPL      0\n",
       "NFLX      0\n",
       "GOOGL    10\n",
       "MSFT      0\n",
       "TSLA      0\n",
       "dtype: int64"
      ]
     },
     "execution_count": 87,
     "metadata": {},
     "output_type": "execute_result"
    }
   ],
   "source": [
    "# Test for null values\n",
    "df_closing_prices.isnull().sum()"
   ]
  },
  {
   "cell_type": "markdown",
   "metadata": {},
   "source": [
    "#### 4. When viewing the head and tail, you'll notice several `NaN` values.\n",
    "* Alpaca reports `NaN` for minutes without any trades occuring as missing.\n",
    "* These values must be removed, we use Panda's `ffill()` function to \"forward fill\", or replace, those prices with the previous values (since the price has not changed).\n"
   ]
  },
  {
   "cell_type": "code",
   "execution_count": 88,
   "metadata": {},
   "outputs": [],
   "source": [
    "# Use Pandas' forward fill function to fill missing values (be sure to set inplace=True)\n",
    "df_closing_prices.ffill(inplace=True)"
   ]
  },
  {
   "cell_type": "code",
   "execution_count": 89,
   "metadata": {},
   "outputs": [
    {
     "data": {
      "text/plain": [
       "FB       0\n",
       "AMZN     0\n",
       "AAPL     0\n",
       "NFLX     0\n",
       "GOOGL    0\n",
       "MSFT     0\n",
       "TSLA     0\n",
       "dtype: int64"
      ]
     },
     "execution_count": 89,
     "metadata": {},
     "output_type": "execute_result"
    }
   ],
   "source": [
    "# Test for null values\n",
    "df_closing_prices.isnull().sum()"
   ]
  },
  {
   "cell_type": "markdown",
   "metadata": {},
   "source": [
    "### Computing Returns"
   ]
  },
  {
   "cell_type": "markdown",
   "metadata": {},
   "source": [
    "#### 1. Compute the percentage change values for 1 minute as follows:\n",
    "* Create a variable called `forecast` to hold the forecast, in this case `1` for 1 minute.\n",
    "* Use the `pct_change` function, passing in the `forecast`, on the `df_closing_prices` DataFrame, storeing the newly generated DataFrame in a variable called `returns`.\n",
    "* Convert the `returns` DataFrame to show forward returns by passing `-(forecast)` into the `shift function.`"
   ]
  },
  {
   "cell_type": "code",
   "execution_count": 90,
   "metadata": {},
   "outputs": [
    {
     "data": {
      "text/html": [
       "<div>\n",
       "<style scoped>\n",
       "    .dataframe tbody tr th:only-of-type {\n",
       "        vertical-align: middle;\n",
       "    }\n",
       "\n",
       "    .dataframe tbody tr th {\n",
       "        vertical-align: top;\n",
       "    }\n",
       "\n",
       "    .dataframe thead th {\n",
       "        text-align: right;\n",
       "    }\n",
       "</style>\n",
       "<table border=\"1\" class=\"dataframe\">\n",
       "  <thead>\n",
       "    <tr style=\"text-align: right;\">\n",
       "      <th></th>\n",
       "      <th>FB</th>\n",
       "      <th>AMZN</th>\n",
       "      <th>AAPL</th>\n",
       "      <th>NFLX</th>\n",
       "      <th>GOOGL</th>\n",
       "      <th>MSFT</th>\n",
       "      <th>TSLA</th>\n",
       "    </tr>\n",
       "    <tr>\n",
       "      <th>timestamp</th>\n",
       "      <th></th>\n",
       "      <th></th>\n",
       "      <th></th>\n",
       "      <th></th>\n",
       "      <th></th>\n",
       "      <th></th>\n",
       "      <th></th>\n",
       "    </tr>\n",
       "  </thead>\n",
       "  <tbody>\n",
       "    <tr>\n",
       "      <th>2022-05-27 13:30:00+00:00</th>\n",
       "      <td>0.001734</td>\n",
       "      <td>0.004177</td>\n",
       "      <td>0.003161</td>\n",
       "      <td>-0.001496</td>\n",
       "      <td>0.004372</td>\n",
       "      <td>0.001483</td>\n",
       "      <td>0.008464</td>\n",
       "    </tr>\n",
       "    <tr>\n",
       "      <th>2022-05-27 13:31:00+00:00</th>\n",
       "      <td>0.005448</td>\n",
       "      <td>-0.000311</td>\n",
       "      <td>0.001233</td>\n",
       "      <td>0.003977</td>\n",
       "      <td>-0.001772</td>\n",
       "      <td>0.001566</td>\n",
       "      <td>0.001702</td>\n",
       "    </tr>\n",
       "    <tr>\n",
       "      <th>2022-05-27 13:32:00+00:00</th>\n",
       "      <td>-0.002419</td>\n",
       "      <td>-0.004271</td>\n",
       "      <td>-0.000924</td>\n",
       "      <td>-0.004143</td>\n",
       "      <td>0.000342</td>\n",
       "      <td>0.001861</td>\n",
       "      <td>-0.004512</td>\n",
       "    </tr>\n",
       "    <tr>\n",
       "      <th>2022-05-27 13:33:00+00:00</th>\n",
       "      <td>-0.003320</td>\n",
       "      <td>-0.002926</td>\n",
       "      <td>-0.001746</td>\n",
       "      <td>-0.004002</td>\n",
       "      <td>-0.001053</td>\n",
       "      <td>-0.000743</td>\n",
       "      <td>-0.002539</td>\n",
       "    </tr>\n",
       "    <tr>\n",
       "      <th>2022-05-27 13:34:00+00:00</th>\n",
       "      <td>0.001967</td>\n",
       "      <td>-0.000470</td>\n",
       "      <td>0.001193</td>\n",
       "      <td>0.005265</td>\n",
       "      <td>0.001884</td>\n",
       "      <td>0.001153</td>\n",
       "      <td>0.001985</td>\n",
       "    </tr>\n",
       "  </tbody>\n",
       "</table>\n",
       "</div>"
      ],
      "text/plain": [
       "                                 FB      AMZN      AAPL      NFLX     GOOGL  \\\n",
       "timestamp                                                                     \n",
       "2022-05-27 13:30:00+00:00  0.001734  0.004177  0.003161 -0.001496  0.004372   \n",
       "2022-05-27 13:31:00+00:00  0.005448 -0.000311  0.001233  0.003977 -0.001772   \n",
       "2022-05-27 13:32:00+00:00 -0.002419 -0.004271 -0.000924 -0.004143  0.000342   \n",
       "2022-05-27 13:33:00+00:00 -0.003320 -0.002926 -0.001746 -0.004002 -0.001053   \n",
       "2022-05-27 13:34:00+00:00  0.001967 -0.000470  0.001193  0.005265  0.001884   \n",
       "\n",
       "                               MSFT      TSLA  \n",
       "timestamp                                      \n",
       "2022-05-27 13:30:00+00:00  0.001483  0.008464  \n",
       "2022-05-27 13:31:00+00:00  0.001566  0.001702  \n",
       "2022-05-27 13:32:00+00:00  0.001861 -0.004512  \n",
       "2022-05-27 13:33:00+00:00 -0.000743 -0.002539  \n",
       "2022-05-27 13:34:00+00:00  0.001153  0.001985  "
      ]
     },
     "execution_count": 90,
     "metadata": {},
     "output_type": "execute_result"
    }
   ],
   "source": [
    "# Define a variable to set prediction period\n",
    "forecast = 1\n",
    "\n",
    "# Compute the pct_change for 1 min \n",
    "returns = df_closing_prices.pct_change()\n",
    "\n",
    "# Shift the returns to convert them to forward returns\n",
    "returns = returns.shift(-forecast)\n",
    "\n",
    "# Preview the DataFrame\n",
    "returns.head(5)"
   ]
  },
  {
   "cell_type": "code",
   "execution_count": 91,
   "metadata": {},
   "outputs": [
    {
     "data": {
      "text/plain": [
       "    timestamp                \n",
       "FB  2022-05-27 13:30:00+00:00    0.001734\n",
       "    2022-05-27 13:31:00+00:00    0.005448\n",
       "    2022-05-27 13:32:00+00:00   -0.002419\n",
       "    2022-05-27 13:33:00+00:00   -0.003320\n",
       "    2022-05-27 13:34:00+00:00    0.001967\n",
       "dtype: float64"
      ]
     },
     "execution_count": 91,
     "metadata": {},
     "output_type": "execute_result"
    }
   ],
   "source": [
    "returns.unstack().head()"
   ]
  },
  {
   "cell_type": "markdown",
   "metadata": {},
   "source": [
    "#### 2. Convert the DataFrame into long form for merging later using `unstack` and `reset_index`."
   ]
  },
  {
   "cell_type": "code",
   "execution_count": 92,
   "metadata": {},
   "outputs": [],
   "source": [
    "# Use unstack() to bring the data in long format and save the output as as dataframe\n",
    "returns = returns.unstack().reset_index()\n",
    "\n",
    "# Rename the column to make it easer to identify it:\n",
    "name = f'F_{forecast}_m_returns'\n",
    "returns.rename(columns = {0: name}, inplace=True)\n"
   ]
  },
  {
   "cell_type": "code",
   "execution_count": 93,
   "metadata": {},
   "outputs": [
    {
     "data": {
      "text/html": [
       "<div>\n",
       "<style scoped>\n",
       "    .dataframe tbody tr th:only-of-type {\n",
       "        vertical-align: middle;\n",
       "    }\n",
       "\n",
       "    .dataframe tbody tr th {\n",
       "        vertical-align: top;\n",
       "    }\n",
       "\n",
       "    .dataframe thead th {\n",
       "        text-align: right;\n",
       "    }\n",
       "</style>\n",
       "<table border=\"1\" class=\"dataframe\">\n",
       "  <thead>\n",
       "    <tr style=\"text-align: right;\">\n",
       "      <th></th>\n",
       "      <th>level_0</th>\n",
       "      <th>timestamp</th>\n",
       "      <th>F_1_m_returns</th>\n",
       "    </tr>\n",
       "  </thead>\n",
       "  <tbody>\n",
       "    <tr>\n",
       "      <th>0</th>\n",
       "      <td>FB</td>\n",
       "      <td>2022-05-27 13:30:00+00:00</td>\n",
       "      <td>0.001734</td>\n",
       "    </tr>\n",
       "    <tr>\n",
       "      <th>1</th>\n",
       "      <td>FB</td>\n",
       "      <td>2022-05-27 13:31:00+00:00</td>\n",
       "      <td>0.005448</td>\n",
       "    </tr>\n",
       "    <tr>\n",
       "      <th>2</th>\n",
       "      <td>FB</td>\n",
       "      <td>2022-05-27 13:32:00+00:00</td>\n",
       "      <td>-0.002419</td>\n",
       "    </tr>\n",
       "    <tr>\n",
       "      <th>3</th>\n",
       "      <td>FB</td>\n",
       "      <td>2022-05-27 13:33:00+00:00</td>\n",
       "      <td>-0.003320</td>\n",
       "    </tr>\n",
       "    <tr>\n",
       "      <th>4</th>\n",
       "      <td>FB</td>\n",
       "      <td>2022-05-27 13:34:00+00:00</td>\n",
       "      <td>0.001967</td>\n",
       "    </tr>\n",
       "  </tbody>\n",
       "</table>\n",
       "</div>"
      ],
      "text/plain": [
       "  level_0                 timestamp  F_1_m_returns\n",
       "0      FB 2022-05-27 13:30:00+00:00       0.001734\n",
       "1      FB 2022-05-27 13:31:00+00:00       0.005448\n",
       "2      FB 2022-05-27 13:32:00+00:00      -0.002419\n",
       "3      FB 2022-05-27 13:33:00+00:00      -0.003320\n",
       "4      FB 2022-05-27 13:34:00+00:00       0.001967"
      ]
     },
     "execution_count": 93,
     "metadata": {},
     "output_type": "execute_result"
    }
   ],
   "source": [
    "# Preview the first five rows\n",
    "returns.head(5)\n"
   ]
  },
  {
   "cell_type": "code",
   "execution_count": 94,
   "metadata": {},
   "outputs": [
    {
     "data": {
      "text/html": [
       "<div>\n",
       "<style scoped>\n",
       "    .dataframe tbody tr th:only-of-type {\n",
       "        vertical-align: middle;\n",
       "    }\n",
       "\n",
       "    .dataframe tbody tr th {\n",
       "        vertical-align: top;\n",
       "    }\n",
       "\n",
       "    .dataframe thead th {\n",
       "        text-align: right;\n",
       "    }\n",
       "</style>\n",
       "<table border=\"1\" class=\"dataframe\">\n",
       "  <thead>\n",
       "    <tr style=\"text-align: right;\">\n",
       "      <th></th>\n",
       "      <th>level_0</th>\n",
       "      <th>timestamp</th>\n",
       "      <th>F_1_m_returns</th>\n",
       "    </tr>\n",
       "  </thead>\n",
       "  <tbody>\n",
       "    <tr>\n",
       "      <th>2732</th>\n",
       "      <td>TSLA</td>\n",
       "      <td>2022-05-27 19:56:00+00:00</td>\n",
       "      <td>0.000048</td>\n",
       "    </tr>\n",
       "    <tr>\n",
       "      <th>2733</th>\n",
       "      <td>TSLA</td>\n",
       "      <td>2022-05-27 19:57:00+00:00</td>\n",
       "      <td>0.000673</td>\n",
       "    </tr>\n",
       "    <tr>\n",
       "      <th>2734</th>\n",
       "      <td>TSLA</td>\n",
       "      <td>2022-05-27 19:58:00+00:00</td>\n",
       "      <td>0.001820</td>\n",
       "    </tr>\n",
       "    <tr>\n",
       "      <th>2735</th>\n",
       "      <td>TSLA</td>\n",
       "      <td>2022-05-27 19:59:00+00:00</td>\n",
       "      <td>-0.000211</td>\n",
       "    </tr>\n",
       "    <tr>\n",
       "      <th>2736</th>\n",
       "      <td>TSLA</td>\n",
       "      <td>2022-05-27 20:00:00+00:00</td>\n",
       "      <td>NaN</td>\n",
       "    </tr>\n",
       "  </tbody>\n",
       "</table>\n",
       "</div>"
      ],
      "text/plain": [
       "     level_0                 timestamp  F_1_m_returns\n",
       "2732    TSLA 2022-05-27 19:56:00+00:00       0.000048\n",
       "2733    TSLA 2022-05-27 19:57:00+00:00       0.000673\n",
       "2734    TSLA 2022-05-27 19:58:00+00:00       0.001820\n",
       "2735    TSLA 2022-05-27 19:59:00+00:00      -0.000211\n",
       "2736    TSLA 2022-05-27 20:00:00+00:00            NaN"
      ]
     },
     "execution_count": 94,
     "metadata": {},
     "output_type": "execute_result"
    }
   ],
   "source": [
    "# Preview the last five rows\n",
    "returns.tail(5)"
   ]
  },
  {
   "cell_type": "markdown",
   "metadata": {},
   "source": [
    "#### 3. Compute the 1, 5, 10 minute momentums that will be used to predict the forward returns, then merge them with the forward returns as follows:\n",
    "* Create the list of moments: `list_of_momentums = [1,5,10]`.\n",
    "* Write a for-loop to loop through the `list_of_momentums`, applying them to `pct_change` with the `df_closing_price` with each iteration.\n",
    "* With each loop, the data temporary DataFrame, `returns_temp` will need to be prepped with `unstack` and `reset_index`, then added as a new column to the original `returns` DataFrame from the prior step.\n",
    "* Complete this step by dropping the null values from `returns` and creating a multi-index based on date and ticker."
   ]
  },
  {
   "cell_type": "code",
   "execution_count": 95,
   "metadata": {},
   "outputs": [],
   "source": [
    "# Create list of momentums that we want to predict\n",
    "list_of_momentums = [1,5,10]\n",
    "for i in list_of_momentums:   \n",
    "    # Compute percentage change for each one of the momentums in the momentum list\n",
    "    pct_chg = df_closing_prices.pct_change(i)\n",
    "    \n",
    "    # Unstack the returns and save the output as as dataframe called returns_temp \n",
    "    returns_temp = pd.DataFrame(pct_chg.unstack(level=0))\n",
    "    \n",
    "    # Rename the column to make it easer to identify it:\n",
    "    name = f'{i}_m_returns'\n",
    "    returns_temp.rename(columns={0: name}, inplace = True)\n",
    "    \n",
    "    # Reset the index so we can merge based on index\n",
    "    returns_temp.reset_index(inplace=True)\n",
    "    \n",
    "    # Merge returns_temp  with the original returns \n",
    "    returns = pd.merge(returns,returns_temp,left_on=['level_0', 'timestamp'],right_on=['level_0', 'timestamp'], how='left', suffixes=('_original', 'right'))"
   ]
  },
  {
   "cell_type": "code",
   "execution_count": 96,
   "metadata": {},
   "outputs": [
    {
     "data": {
      "text/html": [
       "<div>\n",
       "<style scoped>\n",
       "    .dataframe tbody tr th:only-of-type {\n",
       "        vertical-align: middle;\n",
       "    }\n",
       "\n",
       "    .dataframe tbody tr th {\n",
       "        vertical-align: top;\n",
       "    }\n",
       "\n",
       "    .dataframe thead th {\n",
       "        text-align: right;\n",
       "    }\n",
       "</style>\n",
       "<table border=\"1\" class=\"dataframe\">\n",
       "  <thead>\n",
       "    <tr style=\"text-align: right;\">\n",
       "      <th></th>\n",
       "      <th>level_0</th>\n",
       "      <th>timestamp</th>\n",
       "      <th>F_1_m_returns</th>\n",
       "      <th>1_m_returns</th>\n",
       "      <th>5_m_returns</th>\n",
       "      <th>10_m_returns</th>\n",
       "    </tr>\n",
       "  </thead>\n",
       "  <tbody>\n",
       "    <tr>\n",
       "      <th>0</th>\n",
       "      <td>FB</td>\n",
       "      <td>2022-05-27 13:30:00+00:00</td>\n",
       "      <td>0.001734</td>\n",
       "      <td>NaN</td>\n",
       "      <td>NaN</td>\n",
       "      <td>NaN</td>\n",
       "    </tr>\n",
       "    <tr>\n",
       "      <th>1</th>\n",
       "      <td>FB</td>\n",
       "      <td>2022-05-27 13:31:00+00:00</td>\n",
       "      <td>0.005448</td>\n",
       "      <td>0.001734</td>\n",
       "      <td>NaN</td>\n",
       "      <td>NaN</td>\n",
       "    </tr>\n",
       "    <tr>\n",
       "      <th>2</th>\n",
       "      <td>FB</td>\n",
       "      <td>2022-05-27 13:32:00+00:00</td>\n",
       "      <td>-0.002419</td>\n",
       "      <td>0.005448</td>\n",
       "      <td>NaN</td>\n",
       "      <td>NaN</td>\n",
       "    </tr>\n",
       "    <tr>\n",
       "      <th>3</th>\n",
       "      <td>FB</td>\n",
       "      <td>2022-05-27 13:33:00+00:00</td>\n",
       "      <td>-0.003320</td>\n",
       "      <td>-0.002419</td>\n",
       "      <td>NaN</td>\n",
       "      <td>NaN</td>\n",
       "    </tr>\n",
       "    <tr>\n",
       "      <th>4</th>\n",
       "      <td>FB</td>\n",
       "      <td>2022-05-27 13:34:00+00:00</td>\n",
       "      <td>0.001967</td>\n",
       "      <td>-0.003320</td>\n",
       "      <td>NaN</td>\n",
       "      <td>NaN</td>\n",
       "    </tr>\n",
       "    <tr>\n",
       "      <th>5</th>\n",
       "      <td>FB</td>\n",
       "      <td>2022-05-27 13:35:00+00:00</td>\n",
       "      <td>0.002331</td>\n",
       "      <td>0.001967</td>\n",
       "      <td>0.003389</td>\n",
       "      <td>NaN</td>\n",
       "    </tr>\n",
       "    <tr>\n",
       "      <th>6</th>\n",
       "      <td>FB</td>\n",
       "      <td>2022-05-27 13:36:00+00:00</td>\n",
       "      <td>0.004544</td>\n",
       "      <td>0.002331</td>\n",
       "      <td>0.003986</td>\n",
       "      <td>NaN</td>\n",
       "    </tr>\n",
       "    <tr>\n",
       "      <th>7</th>\n",
       "      <td>FB</td>\n",
       "      <td>2022-05-27 13:37:00+00:00</td>\n",
       "      <td>-0.000988</td>\n",
       "      <td>0.004544</td>\n",
       "      <td>0.003084</td>\n",
       "      <td>NaN</td>\n",
       "    </tr>\n",
       "    <tr>\n",
       "      <th>8</th>\n",
       "      <td>FB</td>\n",
       "      <td>2022-05-27 13:38:00+00:00</td>\n",
       "      <td>-0.000312</td>\n",
       "      <td>-0.000988</td>\n",
       "      <td>0.004523</td>\n",
       "      <td>NaN</td>\n",
       "    </tr>\n",
       "    <tr>\n",
       "      <th>9</th>\n",
       "      <td>FB</td>\n",
       "      <td>2022-05-27 13:39:00+00:00</td>\n",
       "      <td>0.002094</td>\n",
       "      <td>-0.000312</td>\n",
       "      <td>0.007555</td>\n",
       "      <td>NaN</td>\n",
       "    </tr>\n",
       "    <tr>\n",
       "      <th>10</th>\n",
       "      <td>FB</td>\n",
       "      <td>2022-05-27 13:40:00+00:00</td>\n",
       "      <td>-0.002245</td>\n",
       "      <td>0.002094</td>\n",
       "      <td>0.007682</td>\n",
       "      <td>0.011096</td>\n",
       "    </tr>\n",
       "  </tbody>\n",
       "</table>\n",
       "</div>"
      ],
      "text/plain": [
       "   level_0                 timestamp  F_1_m_returns  1_m_returns  5_m_returns  \\\n",
       "0       FB 2022-05-27 13:30:00+00:00       0.001734          NaN          NaN   \n",
       "1       FB 2022-05-27 13:31:00+00:00       0.005448     0.001734          NaN   \n",
       "2       FB 2022-05-27 13:32:00+00:00      -0.002419     0.005448          NaN   \n",
       "3       FB 2022-05-27 13:33:00+00:00      -0.003320    -0.002419          NaN   \n",
       "4       FB 2022-05-27 13:34:00+00:00       0.001967    -0.003320          NaN   \n",
       "5       FB 2022-05-27 13:35:00+00:00       0.002331     0.001967     0.003389   \n",
       "6       FB 2022-05-27 13:36:00+00:00       0.004544     0.002331     0.003986   \n",
       "7       FB 2022-05-27 13:37:00+00:00      -0.000988     0.004544     0.003084   \n",
       "8       FB 2022-05-27 13:38:00+00:00      -0.000312    -0.000988     0.004523   \n",
       "9       FB 2022-05-27 13:39:00+00:00       0.002094    -0.000312     0.007555   \n",
       "10      FB 2022-05-27 13:40:00+00:00      -0.002245     0.002094     0.007682   \n",
       "\n",
       "    10_m_returns  \n",
       "0            NaN  \n",
       "1            NaN  \n",
       "2            NaN  \n",
       "3            NaN  \n",
       "4            NaN  \n",
       "5            NaN  \n",
       "6            NaN  \n",
       "7            NaN  \n",
       "8            NaN  \n",
       "9            NaN  \n",
       "10      0.011096  "
      ]
     },
     "execution_count": 96,
     "metadata": {},
     "output_type": "execute_result"
    }
   ],
   "source": [
    "returns.head(11)"
   ]
  },
  {
   "cell_type": "code",
   "execution_count": 97,
   "metadata": {},
   "outputs": [
    {
     "data": {
      "text/html": [
       "<div>\n",
       "<style scoped>\n",
       "    .dataframe tbody tr th:only-of-type {\n",
       "        vertical-align: middle;\n",
       "    }\n",
       "\n",
       "    .dataframe tbody tr th {\n",
       "        vertical-align: top;\n",
       "    }\n",
       "\n",
       "    .dataframe thead th {\n",
       "        text-align: right;\n",
       "    }\n",
       "</style>\n",
       "<table border=\"1\" class=\"dataframe\">\n",
       "  <thead>\n",
       "    <tr style=\"text-align: right;\">\n",
       "      <th></th>\n",
       "      <th></th>\n",
       "      <th>F_1_m_returns</th>\n",
       "      <th>1_m_returns</th>\n",
       "      <th>5_m_returns</th>\n",
       "      <th>10_m_returns</th>\n",
       "    </tr>\n",
       "    <tr>\n",
       "      <th>level_0</th>\n",
       "      <th>timestamp</th>\n",
       "      <th></th>\n",
       "      <th></th>\n",
       "      <th></th>\n",
       "      <th></th>\n",
       "    </tr>\n",
       "  </thead>\n",
       "  <tbody>\n",
       "    <tr>\n",
       "      <th rowspan=\"5\" valign=\"top\">FB</th>\n",
       "      <th>2022-05-27 13:40:00+00:00</th>\n",
       "      <td>-0.002245</td>\n",
       "      <td>0.002094</td>\n",
       "      <td>0.007682</td>\n",
       "      <td>0.011096</td>\n",
       "    </tr>\n",
       "    <tr>\n",
       "      <th>2022-05-27 13:41:00+00:00</th>\n",
       "      <td>-0.003177</td>\n",
       "      <td>-0.002245</td>\n",
       "      <td>0.003082</td>\n",
       "      <td>0.007080</td>\n",
       "    </tr>\n",
       "    <tr>\n",
       "      <th>2022-05-27 13:42:00+00:00</th>\n",
       "      <td>-0.000522</td>\n",
       "      <td>-0.003177</td>\n",
       "      <td>-0.004628</td>\n",
       "      <td>-0.001558</td>\n",
       "    </tr>\n",
       "    <tr>\n",
       "      <th>2022-05-27 13:43:00+00:00</th>\n",
       "      <td>-0.002776</td>\n",
       "      <td>-0.000522</td>\n",
       "      <td>-0.004164</td>\n",
       "      <td>0.000340</td>\n",
       "    </tr>\n",
       "    <tr>\n",
       "      <th>2022-05-27 13:44:00+00:00</th>\n",
       "      <td>-0.000833</td>\n",
       "      <td>-0.002776</td>\n",
       "      <td>-0.006619</td>\n",
       "      <td>0.000886</td>\n",
       "    </tr>\n",
       "  </tbody>\n",
       "</table>\n",
       "</div>"
      ],
      "text/plain": [
       "                                   F_1_m_returns  1_m_returns  5_m_returns  \\\n",
       "level_0 timestamp                                                            \n",
       "FB      2022-05-27 13:40:00+00:00      -0.002245     0.002094     0.007682   \n",
       "        2022-05-27 13:41:00+00:00      -0.003177    -0.002245     0.003082   \n",
       "        2022-05-27 13:42:00+00:00      -0.000522    -0.003177    -0.004628   \n",
       "        2022-05-27 13:43:00+00:00      -0.002776    -0.000522    -0.004164   \n",
       "        2022-05-27 13:44:00+00:00      -0.000833    -0.002776    -0.006619   \n",
       "\n",
       "                                   10_m_returns  \n",
       "level_0 timestamp                                \n",
       "FB      2022-05-27 13:40:00+00:00      0.011096  \n",
       "        2022-05-27 13:41:00+00:00      0.007080  \n",
       "        2022-05-27 13:42:00+00:00     -0.001558  \n",
       "        2022-05-27 13:43:00+00:00      0.000340  \n",
       "        2022-05-27 13:44:00+00:00      0.000886  "
      ]
     },
     "execution_count": 97,
     "metadata": {},
     "output_type": "execute_result"
    }
   ],
   "source": [
    "# Use dropna() to get rid of those missing observations.\n",
    "returns.dropna(inplace=True)\n",
    "\n",
    "# Create a multi index based on level_0 and time\n",
    "returns.set_index(['level_0', 'timestamp'], inplace=True)\n",
    "returns.head()"
   ]
  },
  {
   "cell_type": "markdown",
   "metadata": {},
   "source": [
    "## Part 2: Train and Compare Multiple Machine Learning Algorithms\n",
    "\n",
    " In this section, you'll train each of the requested algorithms and compare performance. Be sure to use the same parameters and training steps for each model. This is necessary to compare each model accurately.\n",
    "\n",
    "### Preprocessing Data\n",
    "\n",
    "#### 1. Generate your feature data (`X`) and target data (`y`):\n",
    "* Create a dataframe `X` that contains all the columns from the returns dataframe that will be used to predict `F_1_m_returns`.\n",
    "* Create a variable, called `y`, that is equal 1 if `F_1_m_returns` is larger than 0. This will be our target variable."
   ]
  },
  {
   "cell_type": "code",
   "execution_count": 98,
   "metadata": {},
   "outputs": [
    {
     "data": {
      "text/html": [
       "<div>\n",
       "<style scoped>\n",
       "    .dataframe tbody tr th:only-of-type {\n",
       "        vertical-align: middle;\n",
       "    }\n",
       "\n",
       "    .dataframe tbody tr th {\n",
       "        vertical-align: top;\n",
       "    }\n",
       "\n",
       "    .dataframe thead th {\n",
       "        text-align: right;\n",
       "    }\n",
       "</style>\n",
       "<table border=\"1\" class=\"dataframe\">\n",
       "  <thead>\n",
       "    <tr style=\"text-align: right;\">\n",
       "      <th></th>\n",
       "      <th></th>\n",
       "      <th>1_m_returns</th>\n",
       "      <th>5_m_returns</th>\n",
       "      <th>10_m_returns</th>\n",
       "    </tr>\n",
       "    <tr>\n",
       "      <th>level_0</th>\n",
       "      <th>timestamp</th>\n",
       "      <th></th>\n",
       "      <th></th>\n",
       "      <th></th>\n",
       "    </tr>\n",
       "  </thead>\n",
       "  <tbody>\n",
       "    <tr>\n",
       "      <th rowspan=\"5\" valign=\"top\">FB</th>\n",
       "      <th>2022-05-27 13:40:00+00:00</th>\n",
       "      <td>0.002094</td>\n",
       "      <td>0.007682</td>\n",
       "      <td>0.011096</td>\n",
       "    </tr>\n",
       "    <tr>\n",
       "      <th>2022-05-27 13:41:00+00:00</th>\n",
       "      <td>-0.002245</td>\n",
       "      <td>0.003082</td>\n",
       "      <td>0.007080</td>\n",
       "    </tr>\n",
       "    <tr>\n",
       "      <th>2022-05-27 13:42:00+00:00</th>\n",
       "      <td>-0.003177</td>\n",
       "      <td>-0.004628</td>\n",
       "      <td>-0.001558</td>\n",
       "    </tr>\n",
       "    <tr>\n",
       "      <th>2022-05-27 13:43:00+00:00</th>\n",
       "      <td>-0.000522</td>\n",
       "      <td>-0.004164</td>\n",
       "      <td>0.000340</td>\n",
       "    </tr>\n",
       "    <tr>\n",
       "      <th>2022-05-27 13:44:00+00:00</th>\n",
       "      <td>-0.002776</td>\n",
       "      <td>-0.006619</td>\n",
       "      <td>0.000886</td>\n",
       "    </tr>\n",
       "  </tbody>\n",
       "</table>\n",
       "</div>"
      ],
      "text/plain": [
       "                                   1_m_returns  5_m_returns  10_m_returns\n",
       "level_0 timestamp                                                        \n",
       "FB      2022-05-27 13:40:00+00:00     0.002094     0.007682      0.011096\n",
       "        2022-05-27 13:41:00+00:00    -0.002245     0.003082      0.007080\n",
       "        2022-05-27 13:42:00+00:00    -0.003177    -0.004628     -0.001558\n",
       "        2022-05-27 13:43:00+00:00    -0.000522    -0.004164      0.000340\n",
       "        2022-05-27 13:44:00+00:00    -0.002776    -0.006619      0.000886"
      ]
     },
     "execution_count": 98,
     "metadata": {},
     "output_type": "execute_result"
    }
   ],
   "source": [
    "# Create a dataframe `X` that contains all the columns from the returns dataframe that will be used to predict `F_1_m_returns`.\n",
    "# Create a variable, called `y`, that is equal 1 if `F_1_m_returns` is larger than 0. This will be our target variable.\n",
    "\n",
    "# Create a separate dataframe for features and define the target variable as a binary target\n",
    "X = returns.iloc[:,1:4]\n",
    "\n",
    "# Create the target variable\n",
    "y = []\n",
    "# Loop through the returns[\"F_1_m_returns\"] data and append 0 or 1 to y based on returns\n",
    "for row in returns[\"F_1_m_returns\"]:\n",
    "    if row > 0:\n",
    "        y.append(1)\n",
    "\n",
    "    elif row <= 0:\n",
    "        y.append(0)\n",
    "\n",
    "X.head()"
   ]
  },
  {
   "cell_type": "markdown",
   "metadata": {},
   "source": [
    "##### Note:\n",
    "> Notice that we don't use shuffle when splitting the dataset into a training and testing dataset. \n",
    "\n",
    "> We want to keep the original ordering of the data, so we don't end up using observations in the future to predict past observations,\n",
    "\n",
    "> This is a critical mistake known as look ahead bias."
   ]
  },
  {
   "cell_type": "markdown",
   "metadata": {},
   "source": [
    "#### 2. Use the train_test_split library to split the dataset into a training and testing dataset, with 70% used for testing\n",
    "* Set the shuffle parameter to False, so that you use the first 70% for training to prvent look ahead bias.\n",
    "* Make sure you have these 4 variables: `X_train`, `X_test`, `y_train`, `y_test`. "
   ]
  },
  {
   "cell_type": "code",
   "execution_count": 99,
   "metadata": {},
   "outputs": [],
   "source": [
    "# Split the dataset without shuffling\n",
    "X_train, X_test, y_train, y_test = train_test_split(X, y, random_state=1, shuffle=False)"
   ]
  },
  {
   "cell_type": "markdown",
   "metadata": {},
   "source": [
    "#### 3. Use the `Counter` function to test the distribution of the data. \n",
    "* The result of `Counter({1: 668, 0: 1194})` reveals the data is indeed unbalanced."
   ]
  },
  {
   "cell_type": "code",
   "execution_count": 100,
   "metadata": {},
   "outputs": [
    {
     "data": {
      "text/plain": [
       "Counter({0: 958, 1: 1037})"
      ]
     },
     "execution_count": 100,
     "metadata": {},
     "output_type": "execute_result"
    }
   ],
   "source": [
    "# Use Counter to count the number 1s and 0 in y_train\n",
    "Counter(y_train)"
   ]
  },
  {
   "cell_type": "markdown",
   "metadata": {},
   "source": [
    "#### 4. Balance the dataset with the Oversampler libary, setting `random state= 1`."
   ]
  },
  {
   "cell_type": "code",
   "execution_count": 101,
   "metadata": {},
   "outputs": [],
   "source": [
    "# Use RandomOverSampler to resample the datase using random_state=1\n",
    "ros = RandomOverSampler(random_state=1)\n",
    "X_resampled, y_resampled = ros.fit_resample(X_train, y_train)"
   ]
  },
  {
   "cell_type": "markdown",
   "metadata": {},
   "source": [
    "#### 5. Test the distribution once again with `Counter`. The new result of `Counter({1: 1194, 0: 1194})` shows the data is now balanced."
   ]
  },
  {
   "cell_type": "code",
   "execution_count": 102,
   "metadata": {},
   "outputs": [
    {
     "data": {
      "text/plain": [
       "Counter({0: 1037, 1: 1037})"
      ]
     },
     "execution_count": 102,
     "metadata": {},
     "output_type": "execute_result"
    }
   ],
   "source": [
    "# Use Counter again to verify imbalance removed\n",
    "Counter(y_resampled)"
   ]
  },
  {
   "cell_type": "markdown",
   "metadata": {},
   "source": [
    "# Machine Learning\n",
    "\n",
    "#### 1. The first cells in this section provide an example of how to fit and train your model using the `LogisticRegression` model from sklearn:\n",
    "* Import select model.\n",
    "* Instantiate model object.\n",
    "* Fit the model to the resampled data - `X_resampled` and `y_resampled`.\n",
    "* Predict the model using `X_test`.\n",
    "* Print the classification report."
   ]
  },
  {
   "cell_type": "code",
   "execution_count": 103,
   "metadata": {},
   "outputs": [
    {
     "name": "stdout",
     "output_type": "stream",
     "text": [
      "              precision    recall  f1-score   support\n",
      "\n",
      "           0     0.4984    0.5080    0.5032       311\n",
      "           1     0.5603    0.5508    0.5556       354\n",
      "\n",
      "    accuracy                         0.5308       665\n",
      "   macro avg     0.5294    0.5294    0.5294       665\n",
      "weighted avg     0.5314    0.5308    0.5311       665\n",
      "\n",
      "Balanced Accuracy Score: 0.529443021418061\n",
      "Sharpe Ratio: 1.0477556003702655\n"
     ]
    }
   ],
   "source": [
    "# Create a LogisticRegression model and train it on the X_resampled data we created before\n",
    "log_model = LogisticRegression()\n",
    "log_model.fit(X_resampled, y_resampled)  \n",
    "\n",
    "# Use the model you trained to predict using X_test\n",
    "y_pred = log_model.predict(X_test)   \n",
    "\n",
    "# Print out a classification report toevaluate performance\n",
    "print(classification_report(y_test, y_pred, digits=4))\n",
    "\n",
    "# Print out a balanced accuracy score report to evaluate performance\n",
    "print(f\"Balanced Accuracy Score: {balanced_accuracy_score(y_test, y_pred)}\")\n",
    "\n",
    "# Calculate Sharpe Ratio\n",
    "sharpe_ratio = y_pred.mean() / y_pred.std()\n",
    "print(f\"Sharpe Ratio: {sharpe_ratio}\")"
   ]
  },
  {
   "cell_type": "markdown",
   "metadata": {},
   "source": [
    "#### 2. Use the same approach as above to train and test the following ML Algorithms:\n",
    "* [RandomForestClassifier](https://scikit-learn.org/stable/modules/generated/sklearn.ensemble.RandomForestClassifier.html)\n",
    "* [GradientBoostingClassifier](https://scikit-learn.org/stable/modules/generated/sklearn.ensemble.GradientBoostingClassifier.html)\n",
    "* [AdaBoostClassifier](https://scikit-learn.org/stable/modules/generated/sklearn.ensemble.AdaBoostClassifier.html)\n",
    "* [XGBClassifier](https://xgboost.readthedocs.io/en/latest/python/python_api.html)"
   ]
  },
  {
   "cell_type": "markdown",
   "metadata": {},
   "source": [
    "#### RandomForestClassifier"
   ]
  },
  {
   "cell_type": "code",
   "execution_count": 104,
   "metadata": {},
   "outputs": [
    {
     "name": "stdout",
     "output_type": "stream",
     "text": [
      "              precision    recall  f1-score   support\n",
      "\n",
      "           0     0.4713    0.5016    0.4860       311\n",
      "           1     0.5359    0.5056    0.5203       354\n",
      "\n",
      "    accuracy                         0.5038       665\n",
      "   macro avg     0.5036    0.5036    0.5032       665\n",
      "weighted avg     0.5057    0.5038    0.5043       665\n",
      "\n",
      "Balanced Accuracy Score: 0.5036287172779624\n",
      "Sharpe Ratio: 1.004521500072926\n"
     ]
    }
   ],
   "source": [
    "# Create a RandomForestClassifier model and train it on the X_resampled data we created before\n",
    "rfc_model = RandomForestClassifier()\n",
    "rfc_model.fit(X_resampled, y_resampled)  \n",
    "\n",
    "# Use the model you trained to predict using X_test\n",
    "y_pred = rfc_model.predict(X_test)   \n",
    "\n",
    "# Print out a classification report to evaluate performance\n",
    "print(classification_report(y_test, y_pred, digits=4))\n",
    "\n",
    "# Print out a balanced accuracy score report to evaluate performance\n",
    "print(f\"Balanced Accuracy Score: {balanced_accuracy_score(y_test, y_pred)}\")\n",
    "\n",
    "# Calculate Sharpe Ratio\n",
    "sharpe_ratio = y_pred.mean() / y_pred.std()\n",
    "print(f\"Sharpe Ratio: {sharpe_ratio}\")"
   ]
  },
  {
   "cell_type": "markdown",
   "metadata": {},
   "source": [
    "#### GradientBoostingClassifier"
   ]
  },
  {
   "cell_type": "code",
   "execution_count": 105,
   "metadata": {},
   "outputs": [
    {
     "name": "stdout",
     "output_type": "stream",
     "text": [
      "              precision    recall  f1-score   support\n",
      "\n",
      "           0     0.4697    0.5241    0.4954       311\n",
      "           1     0.5346    0.4802    0.5060       354\n",
      "\n",
      "    accuracy                         0.5008       665\n",
      "   macro avg     0.5022    0.5022    0.5007       665\n",
      "weighted avg     0.5043    0.5008    0.5010       665\n",
      "\n",
      "Balanced Accuracy Score: 0.5021708721637873\n",
      "Sharpe Ratio: 0.9573016833623034\n"
     ]
    }
   ],
   "source": [
    "# Create a GradientBoostingClassifier model and train it on the X_resampled data we created before\n",
    "gbc_model = GradientBoostingClassifier()\n",
    "gbc_model.fit(X_resampled, y_resampled)  \n",
    "\n",
    "# Use the model you trained to predict using X_test\n",
    "y_pred = gbc_model.predict(X_test)   \n",
    "\n",
    "# Print out a classification report to evaluate performance\n",
    "print(classification_report(y_test, y_pred, digits=4))\n",
    "\n",
    "# Print out a balanced accuracy score report to evaluate performance\n",
    "print(f\"Balanced Accuracy Score: {balanced_accuracy_score(y_test, y_pred)}\")\n",
    "\n",
    "# Calculate Sharpe Ratio\n",
    "sharpe_ratio = y_pred.mean() / y_pred.std()\n",
    "print(f\"Sharpe Ratio: {sharpe_ratio}\")"
   ]
  },
  {
   "cell_type": "markdown",
   "metadata": {},
   "source": [
    "#### AdaBoostClassifier"
   ]
  },
  {
   "cell_type": "code",
   "execution_count": 106,
   "metadata": {},
   "outputs": [
    {
     "name": "stdout",
     "output_type": "stream",
     "text": [
      "              precision    recall  f1-score   support\n",
      "\n",
      "           0     0.4777    0.5852    0.5260       311\n",
      "           1     0.5458    0.4379    0.4859       354\n",
      "\n",
      "    accuracy                         0.5068       665\n",
      "   macro avg     0.5117    0.5115    0.5060       665\n",
      "weighted avg     0.5139    0.5068    0.5047       665\n",
      "\n",
      "Balanced Accuracy Score: 0.5115310552800334\n",
      "Sharpe Ratio: 0.8633694598183222\n"
     ]
    }
   ],
   "source": [
    "# Create a AdaBoostClassifier model and train it on the X_resampled data we created before\n",
    "abc_model = AdaBoostClassifier()\n",
    "abc_model.fit(X_resampled, y_resampled)  \n",
    "\n",
    "# Use the model you trained to predict using X_test\n",
    "y_pred = abc_model.predict(X_test)   \n",
    "\n",
    "# Print out a classification report to evaluate performance\n",
    "print(classification_report(y_test, y_pred, digits=4))\n",
    "\n",
    "# Print out a balanced accuracy score report to evaluate performance\n",
    "print(f\"Balanced Accuracy Score: {balanced_accuracy_score(y_test, y_pred)}\")\n",
    "\n",
    "# Calculate Sharpe Ratio\n",
    "sharpe_ratio = y_pred.mean() / y_pred.std()\n",
    "print(f\"Sharpe Ratio: {sharpe_ratio}\")"
   ]
  },
  {
   "cell_type": "markdown",
   "metadata": {},
   "source": [
    "#### XGBClassifier"
   ]
  },
  {
   "cell_type": "code",
   "execution_count": 107,
   "metadata": {},
   "outputs": [
    {
     "name": "stdout",
     "output_type": "stream",
     "text": [
      "              precision    recall  f1-score   support\n",
      "\n",
      "           0     0.4909    0.5177    0.5039       311\n",
      "           1     0.5549    0.5282    0.5412       354\n",
      "\n",
      "    accuracy                         0.5233       665\n",
      "   macro avg     0.5229    0.5230    0.5226       665\n",
      "weighted avg     0.5249    0.5233    0.5238       665\n",
      "\n",
      "0.5229667375152143\n",
      "Balanced Accuracy Score: 0.5229667375152143\n",
      "Sharpe Ratio: 1.0136266691392073\n"
     ]
    }
   ],
   "source": [
    "# Create a XGBClassifier model and train it on the X_resampled data we created before\n",
    "xgbc_model = XGBClassifier()\n",
    "xgbc_model.fit(X_resampled, y_resampled)  \n",
    "\n",
    "# Use the model you trained to predict using X_test\n",
    "y_pred = xgbc_model.predict(X_test)   \n",
    "\n",
    "# Print out a classification report to evaluate performance\n",
    "print(classification_report(y_test, y_pred, digits=4))\n",
    "\n",
    "# Print out a balanced accuracy score report to evaluate performance\n",
    "print(balanced_accuracy_score(y_test, y_pred))\n",
    "\n",
    "# Print out a balanced accuracy score report to evaluate performance\n",
    "print(f\"Balanced Accuracy Score: {balanced_accuracy_score(y_test, y_pred)}\")\n",
    "\n",
    "# Calculate Sharpe Ratio\n",
    "sharpe_ratio = y_pred.mean() / y_pred.std()\n",
    "print(f\"Sharpe Ratio: {sharpe_ratio}\")"
   ]
  },
  {
   "cell_type": "markdown",
   "metadata": {},
   "source": [
    "### Evaluate the performance of each model\n"
   ]
  },
  {
   "cell_type": "markdown",
   "metadata": {},
   "source": [
    "#### 1. Using the classification report for each model, choose the model with the highest precision for use in your algo-trading program.\n",
    "\n",
    "* Which model has the highest accuracy?\n",
    "    * **0.529443021418061 - Logistic Regression**\n",
    "    * 0.4869202681345033 - RandomForestClassifier\n",
    "    * 0.5021708721637873 - GradientBoostingClassifier\n",
    "    * 0.5115310552800334 - AdaBoostClassifier\n",
    "    * 0.5229667375152143 - XGBClassifier\n",
    "\n",
    "    **Logistic Regression model has the highest accuracy**\n",
    "\n",
    "* Which model has the highest performance over time?\n",
    "    * **0.5311 - Logistic Regression**\n",
    "    * 0.4877 - RandomForestClassifier\n",
    "    * 0.5010 - GradientBoostingClassifier\n",
    "    * 0.5047 - AdaBoostClassifier\n",
    "    * 0.5238 - XGBClassifier\n",
    "\n",
    "    **Logistic Regression model has the highest performance over time**\n",
    "\n",
    "* Which model has the highest sharpe ratio?\n",
    "    * **1.0477556003702655 - Logistic Regression**\n",
    "    * 1.0075472768815938 - RandomForestClassifier\n",
    "    * 0.9573016833623034 - GradientBoostingClassifier\n",
    "    * 0.8633694598183222 - AdaBoostClassifier\n",
    "    * 1.0136266691392073 - XGBClassifier\n",
    "\n",
    "    **Logistic Regression model has the highest sharpe ratio**\n",
    "\n",
    "#### 2. Save the selected model with the `joblib` libary to avoid retraining every time you wish to use it."
   ]
  },
  {
   "cell_type": "code",
   "execution_count": 108,
   "metadata": {},
   "outputs": [
    {
     "data": {
      "text/plain": [
       "['log_model.pkl']"
      ]
     },
     "execution_count": 108,
     "metadata": {},
     "output_type": "execute_result"
    }
   ],
   "source": [
    "# Use the library to save the model that you want to use for trading\n",
    "joblib.dump(log_model, 'log_model.pkl')"
   ]
  },
  {
   "cell_type": "markdown",
   "metadata": {},
   "source": [
    "## Part 3: Implement the strongest model using Apaca API"
   ]
  },
  {
   "cell_type": "markdown",
   "metadata": {},
   "source": [
    "### Develop the Algorithm\n"
   ]
  },
  {
   "cell_type": "markdown",
   "metadata": {},
   "source": [
    "#### 1. Use the provided code to ping the Alpaca API and create the DataFrame needed to feed data into the model.\n",
    "   * This code will also store the correct feature data in `X` for later use."
   ]
  },
  {
   "cell_type": "code",
   "execution_count": 109,
   "metadata": {},
   "outputs": [
    {
     "data": {
      "text/html": [
       "<div>\n",
       "<style scoped>\n",
       "    .dataframe tbody tr th:only-of-type {\n",
       "        vertical-align: middle;\n",
       "    }\n",
       "\n",
       "    .dataframe tbody tr th {\n",
       "        vertical-align: top;\n",
       "    }\n",
       "\n",
       "    .dataframe thead th {\n",
       "        text-align: right;\n",
       "    }\n",
       "</style>\n",
       "<table border=\"1\" class=\"dataframe\">\n",
       "  <thead>\n",
       "    <tr style=\"text-align: right;\">\n",
       "      <th></th>\n",
       "      <th>open</th>\n",
       "      <th>high</th>\n",
       "      <th>low</th>\n",
       "      <th>close</th>\n",
       "      <th>volume</th>\n",
       "      <th>trade_count</th>\n",
       "      <th>vwap</th>\n",
       "      <th>symbol</th>\n",
       "    </tr>\n",
       "    <tr>\n",
       "      <th>timestamp</th>\n",
       "      <th></th>\n",
       "      <th></th>\n",
       "      <th></th>\n",
       "      <th></th>\n",
       "      <th></th>\n",
       "      <th></th>\n",
       "      <th></th>\n",
       "      <th></th>\n",
       "    </tr>\n",
       "  </thead>\n",
       "  <tbody>\n",
       "    <tr>\n",
       "      <th>2022-05-27 13:30:00+00:00</th>\n",
       "      <td>145.39</td>\n",
       "      <td>145.740</td>\n",
       "      <td>145.260</td>\n",
       "      <td>145.540</td>\n",
       "      <td>1718145</td>\n",
       "      <td>16997</td>\n",
       "      <td>145.401780</td>\n",
       "      <td>AAPL</td>\n",
       "    </tr>\n",
       "    <tr>\n",
       "      <th>2022-05-27 13:31:00+00:00</th>\n",
       "      <td>145.56</td>\n",
       "      <td>146.130</td>\n",
       "      <td>145.560</td>\n",
       "      <td>146.000</td>\n",
       "      <td>656681</td>\n",
       "      <td>5929</td>\n",
       "      <td>145.872124</td>\n",
       "      <td>AAPL</td>\n",
       "    </tr>\n",
       "    <tr>\n",
       "      <th>2022-05-27 13:32:00+00:00</th>\n",
       "      <td>146.00</td>\n",
       "      <td>146.230</td>\n",
       "      <td>145.930</td>\n",
       "      <td>146.180</td>\n",
       "      <td>411564</td>\n",
       "      <td>3584</td>\n",
       "      <td>146.068032</td>\n",
       "      <td>AAPL</td>\n",
       "    </tr>\n",
       "    <tr>\n",
       "      <th>2022-05-27 13:33:00+00:00</th>\n",
       "      <td>146.18</td>\n",
       "      <td>146.205</td>\n",
       "      <td>146.020</td>\n",
       "      <td>146.045</td>\n",
       "      <td>374322</td>\n",
       "      <td>3481</td>\n",
       "      <td>146.121218</td>\n",
       "      <td>AAPL</td>\n",
       "    </tr>\n",
       "    <tr>\n",
       "      <th>2022-05-27 13:34:00+00:00</th>\n",
       "      <td>146.04</td>\n",
       "      <td>146.110</td>\n",
       "      <td>145.751</td>\n",
       "      <td>145.790</td>\n",
       "      <td>505251</td>\n",
       "      <td>3876</td>\n",
       "      <td>145.933648</td>\n",
       "      <td>AAPL</td>\n",
       "    </tr>\n",
       "  </tbody>\n",
       "</table>\n",
       "</div>"
      ],
      "text/plain": [
       "                             open     high      low    close   volume  \\\n",
       "timestamp                                                               \n",
       "2022-05-27 13:30:00+00:00  145.39  145.740  145.260  145.540  1718145   \n",
       "2022-05-27 13:31:00+00:00  145.56  146.130  145.560  146.000   656681   \n",
       "2022-05-27 13:32:00+00:00  146.00  146.230  145.930  146.180   411564   \n",
       "2022-05-27 13:33:00+00:00  146.18  146.205  146.020  146.045   374322   \n",
       "2022-05-27 13:34:00+00:00  146.04  146.110  145.751  145.790   505251   \n",
       "\n",
       "                           trade_count        vwap symbol  \n",
       "timestamp                                                  \n",
       "2022-05-27 13:30:00+00:00        16997  145.401780   AAPL  \n",
       "2022-05-27 13:31:00+00:00         5929  145.872124   AAPL  \n",
       "2022-05-27 13:32:00+00:00         3584  146.068032   AAPL  \n",
       "2022-05-27 13:33:00+00:00         3481  146.121218   AAPL  \n",
       "2022-05-27 13:34:00+00:00         3876  145.933648   AAPL  "
      ]
     },
     "execution_count": 109,
     "metadata": {},
     "output_type": "execute_result"
    }
   ],
   "source": [
    "# Create the list of tickers\n",
    "ticker_list = ['FB','AMZN','AAPL','NFLX', 'GOOGL', 'MSFT', 'TSLA']\n",
    "\n",
    "# Define Dates\n",
    "beg_date = '2022-05-27'\n",
    "end_date = '2022-05-27'\n",
    "\n",
    "# Convert the date in a format the Alpaca API reqires\n",
    "start =  pd.Timestamp(f'{beg_date} 09:30:00-0400', tz='America/New_York').replace(hour=9, minute=30, second=0).astimezone('GMT').isoformat()[:-6]+'Z'\n",
    "end   =  pd.Timestamp(f'{end_date} 16:00:00-0400', tz='America/New_York').replace(hour=15, minute=0, second=0).astimezone('GMT').isoformat()[:-6]+'Z'\n",
    "timeframe='1Min'\n",
    "\n",
    "# Use iloc to get the last 10 mins every time we pull new data\n",
    "prices = api.get_bars(ticker_list, timeframe=timeframe, start=start, end=end).df\n",
    "prices.ffill(inplace=True)\n",
    "\n",
    "prices.head()"
   ]
  },
  {
   "cell_type": "code",
   "execution_count": 110,
   "metadata": {},
   "outputs": [
    {
     "data": {
      "text/html": [
       "<div>\n",
       "<style scoped>\n",
       "    .dataframe tbody tr th:only-of-type {\n",
       "        vertical-align: middle;\n",
       "    }\n",
       "\n",
       "    .dataframe tbody tr th {\n",
       "        vertical-align: top;\n",
       "    }\n",
       "\n",
       "    .dataframe thead th {\n",
       "        text-align: right;\n",
       "    }\n",
       "</style>\n",
       "<table border=\"1\" class=\"dataframe\">\n",
       "  <thead>\n",
       "    <tr style=\"text-align: right;\">\n",
       "      <th></th>\n",
       "      <th>FB</th>\n",
       "      <th>AMZN</th>\n",
       "      <th>AAPL</th>\n",
       "      <th>NFLX</th>\n",
       "      <th>GOOGL</th>\n",
       "      <th>MSFT</th>\n",
       "      <th>TSLA</th>\n",
       "    </tr>\n",
       "    <tr>\n",
       "      <th>timestamp</th>\n",
       "      <th></th>\n",
       "      <th></th>\n",
       "      <th></th>\n",
       "      <th></th>\n",
       "      <th></th>\n",
       "      <th></th>\n",
       "      <th></th>\n",
       "    </tr>\n",
       "  </thead>\n",
       "  <tbody>\n",
       "    <tr>\n",
       "      <th>2022-05-27 18:50:00+00:00</th>\n",
       "      <td>193.9800</td>\n",
       "      <td>2273.6178</td>\n",
       "      <td>148.6950</td>\n",
       "      <td>193.5000</td>\n",
       "      <td>2238.3600</td>\n",
       "      <td>270.7700</td>\n",
       "      <td>754.9000</td>\n",
       "    </tr>\n",
       "    <tr>\n",
       "      <th>2022-05-27 18:51:00+00:00</th>\n",
       "      <td>194.1800</td>\n",
       "      <td>2275.5400</td>\n",
       "      <td>148.6900</td>\n",
       "      <td>193.5600</td>\n",
       "      <td>2238.3600</td>\n",
       "      <td>270.8450</td>\n",
       "      <td>755.7538</td>\n",
       "    </tr>\n",
       "    <tr>\n",
       "      <th>2022-05-27 18:52:00+00:00</th>\n",
       "      <td>194.2300</td>\n",
       "      <td>2276.9700</td>\n",
       "      <td>148.6999</td>\n",
       "      <td>193.6500</td>\n",
       "      <td>2239.2900</td>\n",
       "      <td>270.9100</td>\n",
       "      <td>756.1000</td>\n",
       "    </tr>\n",
       "    <tr>\n",
       "      <th>2022-05-27 18:53:00+00:00</th>\n",
       "      <td>194.1603</td>\n",
       "      <td>2276.8550</td>\n",
       "      <td>148.6550</td>\n",
       "      <td>193.5450</td>\n",
       "      <td>2238.1900</td>\n",
       "      <td>270.7876</td>\n",
       "      <td>755.2100</td>\n",
       "    </tr>\n",
       "    <tr>\n",
       "      <th>2022-05-27 18:54:00+00:00</th>\n",
       "      <td>194.0900</td>\n",
       "      <td>2275.9443</td>\n",
       "      <td>148.6200</td>\n",
       "      <td>193.4500</td>\n",
       "      <td>2238.0100</td>\n",
       "      <td>270.7700</td>\n",
       "      <td>755.3838</td>\n",
       "    </tr>\n",
       "    <tr>\n",
       "      <th>2022-05-27 18:55:00+00:00</th>\n",
       "      <td>194.2200</td>\n",
       "      <td>2278.0000</td>\n",
       "      <td>148.6800</td>\n",
       "      <td>193.5100</td>\n",
       "      <td>2239.0000</td>\n",
       "      <td>270.9200</td>\n",
       "      <td>755.1408</td>\n",
       "    </tr>\n",
       "    <tr>\n",
       "      <th>2022-05-27 18:56:00+00:00</th>\n",
       "      <td>194.2694</td>\n",
       "      <td>2279.0000</td>\n",
       "      <td>148.7217</td>\n",
       "      <td>193.7100</td>\n",
       "      <td>2239.0000</td>\n",
       "      <td>270.9450</td>\n",
       "      <td>755.3100</td>\n",
       "    </tr>\n",
       "    <tr>\n",
       "      <th>2022-05-27 18:57:00+00:00</th>\n",
       "      <td>194.2100</td>\n",
       "      <td>2282.3515</td>\n",
       "      <td>148.7700</td>\n",
       "      <td>193.7763</td>\n",
       "      <td>2240.7111</td>\n",
       "      <td>270.9800</td>\n",
       "      <td>755.4400</td>\n",
       "    </tr>\n",
       "    <tr>\n",
       "      <th>2022-05-27 18:58:00+00:00</th>\n",
       "      <td>194.1900</td>\n",
       "      <td>2279.8100</td>\n",
       "      <td>148.7950</td>\n",
       "      <td>193.8700</td>\n",
       "      <td>2240.0000</td>\n",
       "      <td>271.0445</td>\n",
       "      <td>755.5744</td>\n",
       "    </tr>\n",
       "    <tr>\n",
       "      <th>2022-05-27 18:59:00+00:00</th>\n",
       "      <td>194.2500</td>\n",
       "      <td>2279.2900</td>\n",
       "      <td>148.7650</td>\n",
       "      <td>193.8900</td>\n",
       "      <td>2240.0000</td>\n",
       "      <td>271.0934</td>\n",
       "      <td>755.5150</td>\n",
       "    </tr>\n",
       "    <tr>\n",
       "      <th>2022-05-27 19:00:00+00:00</th>\n",
       "      <td>194.3700</td>\n",
       "      <td>2278.5390</td>\n",
       "      <td>148.6775</td>\n",
       "      <td>194.0106</td>\n",
       "      <td>2238.8730</td>\n",
       "      <td>271.0800</td>\n",
       "      <td>755.5250</td>\n",
       "    </tr>\n",
       "  </tbody>\n",
       "</table>\n",
       "</div>"
      ],
      "text/plain": [
       "                                 FB       AMZN      AAPL      NFLX      GOOGL  \\\n",
       "timestamp                                                                       \n",
       "2022-05-27 18:50:00+00:00  193.9800  2273.6178  148.6950  193.5000  2238.3600   \n",
       "2022-05-27 18:51:00+00:00  194.1800  2275.5400  148.6900  193.5600  2238.3600   \n",
       "2022-05-27 18:52:00+00:00  194.2300  2276.9700  148.6999  193.6500  2239.2900   \n",
       "2022-05-27 18:53:00+00:00  194.1603  2276.8550  148.6550  193.5450  2238.1900   \n",
       "2022-05-27 18:54:00+00:00  194.0900  2275.9443  148.6200  193.4500  2238.0100   \n",
       "2022-05-27 18:55:00+00:00  194.2200  2278.0000  148.6800  193.5100  2239.0000   \n",
       "2022-05-27 18:56:00+00:00  194.2694  2279.0000  148.7217  193.7100  2239.0000   \n",
       "2022-05-27 18:57:00+00:00  194.2100  2282.3515  148.7700  193.7763  2240.7111   \n",
       "2022-05-27 18:58:00+00:00  194.1900  2279.8100  148.7950  193.8700  2240.0000   \n",
       "2022-05-27 18:59:00+00:00  194.2500  2279.2900  148.7650  193.8900  2240.0000   \n",
       "2022-05-27 19:00:00+00:00  194.3700  2278.5390  148.6775  194.0106  2238.8730   \n",
       "\n",
       "                               MSFT      TSLA  \n",
       "timestamp                                      \n",
       "2022-05-27 18:50:00+00:00  270.7700  754.9000  \n",
       "2022-05-27 18:51:00+00:00  270.8450  755.7538  \n",
       "2022-05-27 18:52:00+00:00  270.9100  756.1000  \n",
       "2022-05-27 18:53:00+00:00  270.7876  755.2100  \n",
       "2022-05-27 18:54:00+00:00  270.7700  755.3838  \n",
       "2022-05-27 18:55:00+00:00  270.9200  755.1408  \n",
       "2022-05-27 18:56:00+00:00  270.9450  755.3100  \n",
       "2022-05-27 18:57:00+00:00  270.9800  755.4400  \n",
       "2022-05-27 18:58:00+00:00  271.0445  755.5744  \n",
       "2022-05-27 18:59:00+00:00  271.0934  755.5150  \n",
       "2022-05-27 19:00:00+00:00  271.0800  755.5250  "
      ]
     },
     "execution_count": 110,
     "metadata": {},
     "output_type": "execute_result"
    }
   ],
   "source": [
    "# Create an empty DataFrame for closing prices\n",
    "df_closing_prices = pd.DataFrame()\n",
    "\n",
    "# Fetch the closing prices for each symbol in the prices DataFrame. \n",
    "for ticker in ticker_list:\n",
    "    df_closing_prices[ticker] = prices.loc[prices['symbol'] == ticker]['close'].iloc[-11:]\n",
    "\n",
    "    # fill na values\n",
    "    df_closing_prices[ticker] = df_closing_prices[ticker].fillna(method='ffill')\n",
    "\n",
    "df_closing_prices.head(20)"
   ]
  },
  {
   "cell_type": "code",
   "execution_count": 111,
   "metadata": {},
   "outputs": [
    {
     "data": {
      "text/html": [
       "<div>\n",
       "<style scoped>\n",
       "    .dataframe tbody tr th:only-of-type {\n",
       "        vertical-align: middle;\n",
       "    }\n",
       "\n",
       "    .dataframe tbody tr th {\n",
       "        vertical-align: top;\n",
       "    }\n",
       "\n",
       "    .dataframe thead th {\n",
       "        text-align: right;\n",
       "    }\n",
       "</style>\n",
       "<table border=\"1\" class=\"dataframe\">\n",
       "  <thead>\n",
       "    <tr style=\"text-align: right;\">\n",
       "      <th></th>\n",
       "      <th></th>\n",
       "      <th>1_m_returns</th>\n",
       "      <th>5_m_returns</th>\n",
       "      <th>10_m_returns</th>\n",
       "    </tr>\n",
       "    <tr>\n",
       "      <th>level_0</th>\n",
       "      <th>timestamp</th>\n",
       "      <th></th>\n",
       "      <th></th>\n",
       "      <th></th>\n",
       "    </tr>\n",
       "  </thead>\n",
       "  <tbody>\n",
       "    <tr>\n",
       "      <th>FB</th>\n",
       "      <th>2022-05-27 19:00:00+00:00</th>\n",
       "      <td>0.000618</td>\n",
       "      <td>0.000772</td>\n",
       "      <td>0.002011</td>\n",
       "    </tr>\n",
       "    <tr>\n",
       "      <th>AMZN</th>\n",
       "      <th>2022-05-27 19:00:00+00:00</th>\n",
       "      <td>-0.000329</td>\n",
       "      <td>0.000237</td>\n",
       "      <td>0.002164</td>\n",
       "    </tr>\n",
       "    <tr>\n",
       "      <th>AAPL</th>\n",
       "      <th>2022-05-27 19:00:00+00:00</th>\n",
       "      <td>-0.000588</td>\n",
       "      <td>-0.000017</td>\n",
       "      <td>-0.000118</td>\n",
       "    </tr>\n",
       "    <tr>\n",
       "      <th>NFLX</th>\n",
       "      <th>2022-05-27 19:00:00+00:00</th>\n",
       "      <td>0.000622</td>\n",
       "      <td>0.002587</td>\n",
       "      <td>0.002639</td>\n",
       "    </tr>\n",
       "    <tr>\n",
       "      <th>GOOGL</th>\n",
       "      <th>2022-05-27 19:00:00+00:00</th>\n",
       "      <td>-0.000503</td>\n",
       "      <td>-0.000057</td>\n",
       "      <td>0.000229</td>\n",
       "    </tr>\n",
       "    <tr>\n",
       "      <th>MSFT</th>\n",
       "      <th>2022-05-27 19:00:00+00:00</th>\n",
       "      <td>-0.000049</td>\n",
       "      <td>0.000591</td>\n",
       "      <td>0.001145</td>\n",
       "    </tr>\n",
       "    <tr>\n",
       "      <th>TSLA</th>\n",
       "      <th>2022-05-27 19:00:00+00:00</th>\n",
       "      <td>0.000013</td>\n",
       "      <td>0.000509</td>\n",
       "      <td>0.000828</td>\n",
       "    </tr>\n",
       "  </tbody>\n",
       "</table>\n",
       "</div>"
      ],
      "text/plain": [
       "                                   1_m_returns  5_m_returns  10_m_returns\n",
       "level_0 timestamp                                                        \n",
       "FB      2022-05-27 19:00:00+00:00     0.000618     0.000772      0.002011\n",
       "AMZN    2022-05-27 19:00:00+00:00    -0.000329     0.000237      0.002164\n",
       "AAPL    2022-05-27 19:00:00+00:00    -0.000588    -0.000017     -0.000118\n",
       "NFLX    2022-05-27 19:00:00+00:00     0.000622     0.002587      0.002639\n",
       "GOOGL   2022-05-27 19:00:00+00:00    -0.000503    -0.000057      0.000229\n",
       "MSFT    2022-05-27 19:00:00+00:00    -0.000049     0.000591      0.001145\n",
       "TSLA    2022-05-27 19:00:00+00:00     0.000013     0.000509      0.000828"
      ]
     },
     "execution_count": 111,
     "metadata": {},
     "output_type": "execute_result"
    }
   ],
   "source": [
    "# Create list of momentums\n",
    "list_of_momentums = [1,5,10]\n",
    "\n",
    "for i in list_of_momentums:  \n",
    "    # Compute percentage change for each one of the momentums in the momentum list\n",
    "    returns_temp = df_closing_prices.pct_change(i)\n",
    "    # Unstack the returns \n",
    "    returns_temp = pd.DataFrame(returns_temp.unstack())\n",
    "    name = f'{i}_m_returns'\n",
    "    returns_temp.rename(columns={0: name}, inplace = True)\n",
    "    # Reset the index so we can merge based on index\n",
    "    returns_temp.reset_index(inplace = True)\n",
    "    # Merge newly computed returns with previously created returns\n",
    "    if i ==1:\n",
    "        returns = returns_temp\n",
    "    else:\n",
    "        returns = pd.merge(returns,returns_temp,left_on=['level_0', 'timestamp'],right_on=['level_0', 'timestamp'], how='left', suffixes=('_original', 'right'))\n",
    "\n",
    "# Drop nulls and set index\n",
    "returns.dropna(axis=0, how='any', inplace=True)\n",
    "returns.set_index(['level_0', 'timestamp'], inplace=True)\n",
    "\n",
    "# Generate feature data and preview first 10 rows.\n",
    "X = returns\n",
    "X.head(10)"
   ]
  },
  {
   "cell_type": "markdown",
   "metadata": {},
   "source": [
    "#### 2. Using `joblib`, load the chosen model."
   ]
  },
  {
   "cell_type": "code",
   "execution_count": 112,
   "metadata": {},
   "outputs": [],
   "source": [
    "# Load the previously trained and saved model using joblib\n",
    "model = joblib.load('log_model.pkl')"
   ]
  },
  {
   "cell_type": "markdown",
   "metadata": {},
   "source": [
    "#### 3. Use the model file to make predicttions:\n",
    "* Use `predict` on `X` and save this as `y_pred`.\n",
    "* Convert `y_pred` to a DataFrame, setting the index to the index of `X`.\n",
    "* Rename the column 0 to 'buy', be sure to set `inplace =True`."
   ]
  },
  {
   "cell_type": "code",
   "execution_count": 113,
   "metadata": {},
   "outputs": [
    {
     "data": {
      "text/html": [
       "<div>\n",
       "<style scoped>\n",
       "    .dataframe tbody tr th:only-of-type {\n",
       "        vertical-align: middle;\n",
       "    }\n",
       "\n",
       "    .dataframe tbody tr th {\n",
       "        vertical-align: top;\n",
       "    }\n",
       "\n",
       "    .dataframe thead th {\n",
       "        text-align: right;\n",
       "    }\n",
       "</style>\n",
       "<table border=\"1\" class=\"dataframe\">\n",
       "  <thead>\n",
       "    <tr style=\"text-align: right;\">\n",
       "      <th></th>\n",
       "      <th></th>\n",
       "      <th>buy</th>\n",
       "    </tr>\n",
       "    <tr>\n",
       "      <th>level_0</th>\n",
       "      <th>timestamp</th>\n",
       "      <th></th>\n",
       "    </tr>\n",
       "  </thead>\n",
       "  <tbody>\n",
       "    <tr>\n",
       "      <th>FB</th>\n",
       "      <th>2022-05-27 19:00:00+00:00</th>\n",
       "      <td>0</td>\n",
       "    </tr>\n",
       "    <tr>\n",
       "      <th>AMZN</th>\n",
       "      <th>2022-05-27 19:00:00+00:00</th>\n",
       "      <td>0</td>\n",
       "    </tr>\n",
       "    <tr>\n",
       "      <th>AAPL</th>\n",
       "      <th>2022-05-27 19:00:00+00:00</th>\n",
       "      <td>1</td>\n",
       "    </tr>\n",
       "    <tr>\n",
       "      <th>NFLX</th>\n",
       "      <th>2022-05-27 19:00:00+00:00</th>\n",
       "      <td>0</td>\n",
       "    </tr>\n",
       "    <tr>\n",
       "      <th>GOOGL</th>\n",
       "      <th>2022-05-27 19:00:00+00:00</th>\n",
       "      <td>1</td>\n",
       "    </tr>\n",
       "    <tr>\n",
       "      <th>MSFT</th>\n",
       "      <th>2022-05-27 19:00:00+00:00</th>\n",
       "      <td>0</td>\n",
       "    </tr>\n",
       "    <tr>\n",
       "      <th>TSLA</th>\n",
       "      <th>2022-05-27 19:00:00+00:00</th>\n",
       "      <td>0</td>\n",
       "    </tr>\n",
       "  </tbody>\n",
       "</table>\n",
       "</div>"
      ],
      "text/plain": [
       "                                   buy\n",
       "level_0 timestamp                     \n",
       "FB      2022-05-27 19:00:00+00:00    0\n",
       "AMZN    2022-05-27 19:00:00+00:00    0\n",
       "AAPL    2022-05-27 19:00:00+00:00    1\n",
       "NFLX    2022-05-27 19:00:00+00:00    0\n",
       "GOOGL   2022-05-27 19:00:00+00:00    1\n",
       "MSFT    2022-05-27 19:00:00+00:00    0\n",
       "TSLA    2022-05-27 19:00:00+00:00    0"
      ]
     },
     "execution_count": 113,
     "metadata": {},
     "output_type": "execute_result"
    }
   ],
   "source": [
    "# Use the model file to predict on X\n",
    "y_pred = model.predict(X)\n",
    "\n",
    "# Convert y_pred to a dataframe, set the index to the index of X\n",
    "y_df = pd.DataFrame(y_pred, index=X.index)\n",
    "\n",
    "# Rename the column 0 to 'buy', be sure to set inplace =True\n",
    "y_df.rename(columns={0: \"buy\"}, inplace = True)\n",
    "y_df\n"
   ]
  },
  {
   "cell_type": "markdown",
   "metadata": {},
   "source": [
    "#### 4. Filter the stocks where 'buy' is equal to 1, saving the filter as `y_pred`."
   ]
  },
  {
   "cell_type": "code",
   "execution_count": 114,
   "metadata": {},
   "outputs": [
    {
     "data": {
      "text/html": [
       "<div>\n",
       "<style scoped>\n",
       "    .dataframe tbody tr th:only-of-type {\n",
       "        vertical-align: middle;\n",
       "    }\n",
       "\n",
       "    .dataframe tbody tr th {\n",
       "        vertical-align: top;\n",
       "    }\n",
       "\n",
       "    .dataframe thead th {\n",
       "        text-align: right;\n",
       "    }\n",
       "</style>\n",
       "<table border=\"1\" class=\"dataframe\">\n",
       "  <thead>\n",
       "    <tr style=\"text-align: right;\">\n",
       "      <th></th>\n",
       "      <th></th>\n",
       "      <th>buy</th>\n",
       "    </tr>\n",
       "    <tr>\n",
       "      <th>level_0</th>\n",
       "      <th>timestamp</th>\n",
       "      <th></th>\n",
       "    </tr>\n",
       "  </thead>\n",
       "  <tbody>\n",
       "    <tr>\n",
       "      <th>AAPL</th>\n",
       "      <th>2022-05-27 19:00:00+00:00</th>\n",
       "      <td>1</td>\n",
       "    </tr>\n",
       "    <tr>\n",
       "      <th>GOOGL</th>\n",
       "      <th>2022-05-27 19:00:00+00:00</th>\n",
       "      <td>1</td>\n",
       "    </tr>\n",
       "  </tbody>\n",
       "</table>\n",
       "</div>"
      ],
      "text/plain": [
       "                                   buy\n",
       "level_0 timestamp                     \n",
       "AAPL    2022-05-27 19:00:00+00:00    1\n",
       "GOOGL   2022-05-27 19:00:00+00:00    1"
      ]
     },
     "execution_count": 114,
     "metadata": {},
     "output_type": "execute_result"
    }
   ],
   "source": [
    "# Filter the stocks where 'buy' is equal to 1\n",
    "y_pred = y_df[y_df['buy'] == 1]\n",
    "y_pred"
   ]
  },
  {
   "cell_type": "markdown",
   "metadata": {},
   "source": [
    "#### 5. Using the `y_pred` filter, create a dictionary called `buy_dict` and assign 'n' to each Ticker (key value) as a placeholder."
   ]
  },
  {
   "cell_type": "code",
   "execution_count": 115,
   "metadata": {},
   "outputs": [
    {
     "data": {
      "text/plain": [
       "{'AAPL': 'n', 'GOOGL': 'n'}"
      ]
     },
     "execution_count": 115,
     "metadata": {},
     "output_type": "execute_result"
    }
   ],
   "source": [
    "# Create dictionary from y_pred and assign a 'n' to each of them for now as a placeholder.\n",
    "buy_dict = dict.fromkeys(y_pred.index.get_level_values(0), 'n')\n",
    "buy_dict"
   ]
  },
  {
   "cell_type": "markdown",
   "metadata": {},
   "source": [
    "#### 6. Obtain the total available equity in your account from the Alpaca API and store in a variable called `total_capital`. You will split the capital equally between all selected stocks per the CIO's request."
   ]
  },
  {
   "cell_type": "code",
   "execution_count": 116,
   "metadata": {},
   "outputs": [
    {
     "name": "stdout",
     "output_type": "stream",
     "text": [
      "Total available capital: 100000.0\n"
     ]
    }
   ],
   "source": [
    "# Pull the total available equity in our account from the  Alpaca API\n",
    "account = api.get_account()\n",
    "total_capital = float(account.equity)\n",
    "print(f\"Total available capital: {total_capital}\")"
   ]
  },
  {
   "cell_type": "code",
   "execution_count": 117,
   "metadata": {},
   "outputs": [
    {
     "name": "stdout",
     "output_type": "stream",
     "text": [
      "Capital per stock: 50000.0\n"
     ]
    }
   ],
   "source": [
    "# Compute capital per stock, divide equity in account by number of stocks\n",
    "# Use Alpaca API to pull the equity in the account\n",
    "if len(buy_dict) > 0:\n",
    "    capital_per_stock = float(total_capital)/ len(buy_dict)\n",
    "else:\n",
    "    capital_per_stock = 0\n",
    "print(f'Capital per stock: {capital_per_stock}')"
   ]
  },
  {
   "cell_type": "markdown",
   "metadata": {},
   "source": [
    "#### 7. Use a for-loop to iterate through `buy_dict` to determine the number stocks you need to buy for each ticker."
   ]
  },
  {
   "cell_type": "code",
   "execution_count": 118,
   "metadata": {},
   "outputs": [
    {
     "name": "stdout",
     "output_type": "stream",
     "text": [
      "{'AAPL': 337, 'GOOGL': 22}\n"
     ]
    }
   ],
   "source": [
    "# Use for loop to iterate through dictionary of buys \n",
    "# Determine the number stocks we need to buy for each ticker\n",
    "for ticker in buy_dict:\n",
    "    try:\n",
    "        buy_dict[ticker] = int(capital_per_stock /int(df_closing_prices[ticker].iloc[-1]))\n",
    "    except:\n",
    "        pass\n",
    "\n",
    "print(buy_dict)"
   ]
  },
  {
   "cell_type": "markdown",
   "metadata": {},
   "source": [
    "#### 8. Cancel all previous orders in the Alpaca API (so you don't buy more than intended) and sell all currently held stocks to close all positions."
   ]
  },
  {
   "cell_type": "code",
   "execution_count": 119,
   "metadata": {},
   "outputs": [
    {
     "data": {
      "text/plain": [
       "[]"
      ]
     },
     "execution_count": 119,
     "metadata": {},
     "output_type": "execute_result"
    }
   ],
   "source": [
    "# Cancel all previous orders in the Alpaca API\n",
    "api.cancel_all_orders()\n",
    "\n",
    "# Sell all currently held stocks to close all positions\n",
    "api.close_all_positions()"
   ]
  },
  {
   "cell_type": "markdown",
   "metadata": {},
   "source": [
    "#### 9. Iterate through `buy_dict` and send a buy order for each ticker with their corresponding number of shares."
   ]
  },
  {
   "cell_type": "code",
   "execution_count": 120,
   "metadata": {},
   "outputs": [
    {
     "name": "stdout",
     "output_type": "stream",
     "text": [
      "buying AAPL numShares 337\n",
      "buying GOOGL numShares 22\n"
     ]
    }
   ],
   "source": [
    "# Iterate through the longlist object and send a buy order for each ticker with a corresponding number of shares:\n",
    "for stock, qty in buy_dict.items():    \n",
    "    # Submit a market order to buy shares as described in buy_dict\n",
    "    api.submit_order(\n",
    "        symbol=stock,\n",
    "        qty=qty,\n",
    "        side='buy',\n",
    "        type='market',\n",
    "        time_in_force='gtc',\n",
    "    )\n",
    "    print(f'buying {stock} numShares {qty}')"
   ]
  },
  {
   "cell_type": "markdown",
   "metadata": {},
   "source": [
    "### Automate the algorithm"
   ]
  },
  {
   "cell_type": "markdown",
   "metadata": {},
   "source": [
    "#### 1. Make a function called `trade()` that incorporates all of the steps above."
   ]
  },
  {
   "cell_type": "code",
   "execution_count": 121,
   "metadata": {},
   "outputs": [],
   "source": [
    "# Add all of the steps conducted above into the function trade\n",
    "def trade():\n",
    "\n",
    "    ticker_list = ['FB','AMZN','AAPL','NFLX', 'GOOGL', 'MSFT', 'TSLA']\n",
    "    # Notice that we remove the start and end variables since we want the latest prices.\n",
    "    timeframe='1Min'\n",
    "    # Use iloc to get the last 10 mins every time we pull new data\n",
    "    prices = api.get_bars(ticker_list, \"1Min\").df\n",
    "\n",
    "    # Create and empty DataFrame for closing prices\n",
    "    df_closing_prices = pd.DataFrame()\n",
    "\n",
    "# Fetch the closing prices for each symbol in the prices DataFrame. \n",
    "    for ticker in ticker_list:\n",
    "     df_closing_prices[ticker] = prices.loc[prices['symbol'] == ticker]['close'].iloc[-11:]\n",
    "        # fill na values\n",
    "    df_closing_prices[ticker] = df_closing_prices[ticker].fillna(method='ffill')\n",
    "\n",
    "    print(df_closing_prices.head())\n",
    "    \n",
    "    # Loop through momentums to build new DataFrame\n",
    "    list_of_momentums = [1,5,10]\n",
    "    for i in list_of_momentums:   \n",
    "        returns_temp = df_closing_prices.pct_change(i)\n",
    "        returns_temp = pd.DataFrame(returns_temp.unstack())\n",
    "        name = f'{i}_m_returns'\n",
    "        returns_temp.rename(columns={0: name}, inplace = True)\n",
    "        returns_temp.reset_index(inplace = True)\n",
    "        if i ==1:\n",
    "            returns = returns_temp\n",
    "        else:\n",
    "            returns = pd.merge(returns,returns_temp,left_on=['level_0', 'timestamp'],right_on=['level_0', 'timestamp'], how='left', suffixes=('_original', 'right'))\n",
    "\n",
    "    # Drop nulls and set index            \n",
    "    returns.dropna(axis=0, how='any', inplace=True)\n",
    "    returns.set_index(['level_0', 'timestamp'], inplace=True)\n",
    "\n",
    "    # Preprocess data for model\n",
    "    model = joblib.load('log_model.pkl')\n",
    "    y_pred = model.predict(X)\n",
    "    y_df = pd.DataFrame(y_pred, index=X.index)\n",
    "    y_df.rename(columns={0: \"buy\"}, inplace = True)\n",
    "    y_pred = y_df.loc[y_df[\"buy\"] == 1]\n",
    "\n",
    "    # Create the `buy_dict` object\n",
    "    buy_dict = dict.fromkeys(y_pred.index.get_level_values(0), 'n')\n",
    "\n",
    "    # Split capital between stocks and determine buy or sell\n",
    "    account = api.get_account()\n",
    "    total_capital = float(account.equity)\n",
    "    if len(buy_dict) > 0:\n",
    "        capital_per_stock = float(total_capital)/ len(buy_dict)\n",
    "    else:\n",
    "        capital_per_stock = 0\n",
    "    for ticker in buy_dict:\n",
    "        try:\n",
    "            buy_dict[ticker] = int(capital_per_stock /int(prices[ticker].iloc[-1]['close']))\n",
    "        except:\n",
    "            pass\n",
    "    \n",
    "    # Cancel pending orders and close positions\n",
    "    api.cancel_all_orders()\n",
    "    api.close_all_positions()\n",
    "    \n",
    "    # Submit orders\n",
    "    for stock, qty in buy_dict.items():    \n",
    "        # Submit a market order to buy shares as described in buy_dict\n",
    "        api.submit_order(\n",
    "            symbol=stock,\n",
    "            qty=qty,\n",
    "            side='buy',\n",
    "            type='market',\n",
    "            time_in_force='gtc',\n",
    "        )\n",
    "    print(f'buying {stock} numShares {qty}')\n"
   ]
  },
  {
   "cell_type": "markdown",
   "metadata": {},
   "source": [
    "#### 2. Import Python's schedule module."
   ]
  },
  {
   "cell_type": "markdown",
   "metadata": {},
   "source": [
    "#### 3. Use the \"schedule\" module to automate the algorithm:\n",
    "* Clear the schedule with `.clear()`.\n",
    "* Define a schedule to run the trade function every minute at 5 seconds past the minute mark (e.g. `10:31:05`).\n",
    "* Use the Alpaca API to check whether the market is open.\n",
    "* Use run_pending() function inside schedule to execute the schedule you defined while the market is open"
   ]
  },
  {
   "cell_type": "code",
   "execution_count": 122,
   "metadata": {},
   "outputs": [
    {
     "name": "stdout",
     "output_type": "stream",
     "text": [
      "The market is closed and next open at 2022-06-03 09:30:00-04:00\n"
     ]
    }
   ],
   "source": [
    "# Clear the schedule\n",
    "schedule.clear()\n",
    "\n",
    "# Define a schedule to run the trade function every minute at 5 seconds past the minute mark (e.g. 10:31:05)\n",
    "trade_schedule = schedule.every().minute.at(\":05\").do(trade)\n",
    "\n",
    "# Use the Alpaca API to check whether the market is open\n",
    "clock = api.get_clock()\n",
    "\n",
    "# Use run_pending() function inside schedule to execute the schedule you defined as long as the market is open\n",
    "while clock.is_open == True:\n",
    "    print(f'The market trading widow for {clock.next_open} is open, executing trade function')\n",
    "    schedule.run_pending()\n",
    "    time.sleep(1)\n",
    "else:\n",
    "    print(f'The market is closed and next open at {clock.next_open}')\n"
   ]
  }
 ],
 "metadata": {
  "interpreter": {
   "hash": "405d1f8999b38946e1a55ed7b4fbc22e3337bc0e954c12e008e73265e3b737b3"
  },
  "kernelspec": {
   "display_name": "Python 3 (ipykernel)",
   "language": "python",
   "name": "python3"
  },
  "language_info": {
   "codemirror_mode": {
    "name": "ipython",
    "version": 3
   },
   "file_extension": ".py",
   "mimetype": "text/x-python",
   "name": "python",
   "nbconvert_exporter": "python",
   "pygments_lexer": "ipython3",
   "version": "3.7.13"
  }
 },
 "nbformat": 4,
 "nbformat_minor": 4
}
